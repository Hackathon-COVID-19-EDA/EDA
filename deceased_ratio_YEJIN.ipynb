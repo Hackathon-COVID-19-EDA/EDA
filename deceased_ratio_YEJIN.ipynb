{
 "cells": [
  {
   "cell_type": "code",
   "execution_count": 3,
   "id": "extraordinary-parallel",
   "metadata": {},
   "outputs": [],
   "source": [
    "import pandas as pd\n",
    "import seaborn as sns\n",
    "import os"
   ]
  },
  {
   "cell_type": "markdown",
   "id": "bulgarian-course",
   "metadata": {},
   "source": [
    "# 나이와 치사율의 관계"
   ]
  },
  {
   "cell_type": "code",
   "execution_count": 4,
   "id": "legal-remedy",
   "metadata": {},
   "outputs": [],
   "source": [
    "time_age = pd.read_csv('data/TimeAge.csv')"
   ]
  },
  {
   "cell_type": "code",
   "execution_count": 5,
   "id": "alternative-simulation",
   "metadata": {},
   "outputs": [
    {
     "data": {
      "text/html": [
       "<div>\n",
       "<style scoped>\n",
       "    .dataframe tbody tr th:only-of-type {\n",
       "        vertical-align: middle;\n",
       "    }\n",
       "\n",
       "    .dataframe tbody tr th {\n",
       "        vertical-align: top;\n",
       "    }\n",
       "\n",
       "    .dataframe thead th {\n",
       "        text-align: right;\n",
       "    }\n",
       "</style>\n",
       "<table border=\"1\" class=\"dataframe\">\n",
       "  <thead>\n",
       "    <tr style=\"text-align: right;\">\n",
       "      <th></th>\n",
       "      <th>date</th>\n",
       "      <th>time</th>\n",
       "      <th>age</th>\n",
       "      <th>confirmed</th>\n",
       "      <th>deceased</th>\n",
       "    </tr>\n",
       "  </thead>\n",
       "  <tbody>\n",
       "    <tr>\n",
       "      <th>0</th>\n",
       "      <td>2020-03-02</td>\n",
       "      <td>0</td>\n",
       "      <td>0s</td>\n",
       "      <td>32</td>\n",
       "      <td>0</td>\n",
       "    </tr>\n",
       "    <tr>\n",
       "      <th>1</th>\n",
       "      <td>2020-03-02</td>\n",
       "      <td>0</td>\n",
       "      <td>10s</td>\n",
       "      <td>169</td>\n",
       "      <td>0</td>\n",
       "    </tr>\n",
       "    <tr>\n",
       "      <th>2</th>\n",
       "      <td>2020-03-02</td>\n",
       "      <td>0</td>\n",
       "      <td>20s</td>\n",
       "      <td>1235</td>\n",
       "      <td>0</td>\n",
       "    </tr>\n",
       "    <tr>\n",
       "      <th>3</th>\n",
       "      <td>2020-03-02</td>\n",
       "      <td>0</td>\n",
       "      <td>30s</td>\n",
       "      <td>506</td>\n",
       "      <td>1</td>\n",
       "    </tr>\n",
       "    <tr>\n",
       "      <th>4</th>\n",
       "      <td>2020-03-02</td>\n",
       "      <td>0</td>\n",
       "      <td>40s</td>\n",
       "      <td>633</td>\n",
       "      <td>1</td>\n",
       "    </tr>\n",
       "    <tr>\n",
       "      <th>...</th>\n",
       "      <td>...</td>\n",
       "      <td>...</td>\n",
       "      <td>...</td>\n",
       "      <td>...</td>\n",
       "      <td>...</td>\n",
       "    </tr>\n",
       "    <tr>\n",
       "      <th>1084</th>\n",
       "      <td>2020-06-30</td>\n",
       "      <td>0</td>\n",
       "      <td>40s</td>\n",
       "      <td>1681</td>\n",
       "      <td>3</td>\n",
       "    </tr>\n",
       "    <tr>\n",
       "      <th>1085</th>\n",
       "      <td>2020-06-30</td>\n",
       "      <td>0</td>\n",
       "      <td>50s</td>\n",
       "      <td>2286</td>\n",
       "      <td>15</td>\n",
       "    </tr>\n",
       "    <tr>\n",
       "      <th>1086</th>\n",
       "      <td>2020-06-30</td>\n",
       "      <td>0</td>\n",
       "      <td>60s</td>\n",
       "      <td>1668</td>\n",
       "      <td>41</td>\n",
       "    </tr>\n",
       "    <tr>\n",
       "      <th>1087</th>\n",
       "      <td>2020-06-30</td>\n",
       "      <td>0</td>\n",
       "      <td>70s</td>\n",
       "      <td>850</td>\n",
       "      <td>82</td>\n",
       "    </tr>\n",
       "    <tr>\n",
       "      <th>1088</th>\n",
       "      <td>2020-06-30</td>\n",
       "      <td>0</td>\n",
       "      <td>80s</td>\n",
       "      <td>556</td>\n",
       "      <td>139</td>\n",
       "    </tr>\n",
       "  </tbody>\n",
       "</table>\n",
       "<p>1089 rows × 5 columns</p>\n",
       "</div>"
      ],
      "text/plain": [
       "            date  time  age  confirmed  deceased\n",
       "0     2020-03-02     0   0s         32         0\n",
       "1     2020-03-02     0  10s        169         0\n",
       "2     2020-03-02     0  20s       1235         0\n",
       "3     2020-03-02     0  30s        506         1\n",
       "4     2020-03-02     0  40s        633         1\n",
       "...          ...   ...  ...        ...       ...\n",
       "1084  2020-06-30     0  40s       1681         3\n",
       "1085  2020-06-30     0  50s       2286        15\n",
       "1086  2020-06-30     0  60s       1668        41\n",
       "1087  2020-06-30     0  70s        850        82\n",
       "1088  2020-06-30     0  80s        556       139\n",
       "\n",
       "[1089 rows x 5 columns]"
      ]
     },
     "execution_count": 5,
     "metadata": {},
     "output_type": "execute_result"
    }
   ],
   "source": [
    "time_age"
   ]
  },
  {
   "cell_type": "markdown",
   "id": "hearing-bubble",
   "metadata": {},
   "source": [
    "1. age 별로 그룹화\n",
    "2. deceased / confirmed 통계 내기\n",
    "3. 어느 연령대에서 더 높은 비율이 나왔는지 확인"
   ]
  },
  {
   "cell_type": "code",
   "execution_count": 6,
   "id": "opposite-luther",
   "metadata": {},
   "outputs": [
    {
     "data": {
      "text/plain": [
       "10s    121\n",
       "20s    121\n",
       "30s    121\n",
       "60s    121\n",
       "0s     121\n",
       "50s    121\n",
       "70s    121\n",
       "40s    121\n",
       "80s    121\n",
       "Name: age, dtype: int64"
      ]
     },
     "execution_count": 6,
     "metadata": {},
     "output_type": "execute_result"
    }
   ],
   "source": [
    "time_age['age'].value_counts()"
   ]
  },
  {
   "cell_type": "code",
   "execution_count": 7,
   "id": "accredited-bishop",
   "metadata": {},
   "outputs": [],
   "source": [
    "age_grouped = time_age.groupby('age').sum()\n",
    "df=pd.DataFrame(age_grouped)"
   ]
  },
  {
   "cell_type": "code",
   "execution_count": 13,
   "id": "waiting-works",
   "metadata": {},
   "outputs": [
    {
     "data": {
      "text/plain": [
       "<AxesSubplot:ylabel='age'>"
      ]
     },
     "execution_count": 13,
     "metadata": {},
     "output_type": "execute_result"
    },
    {
     "data": {
      "image/png": "[encoded data removed]",
      "text/plain": [
       "<Figure size 720x720 with 1 Axes>"
      ]
     },
     "metadata": {
      "needs_background": "light"
     },
     "output_type": "display_data"
    }
   ],
   "source": [
    "df.plot(kind = \"barh\",color='b', y = 'confirmed', alpha=0.3, figsize=(10, 10))"
   ]
  },
  {
   "cell_type": "code",
   "execution_count": 14,
   "id": "operational-silly",
   "metadata": {},
   "outputs": [
    {
     "data": {
      "text/html": [
       "<div>\n",
       "<style scoped>\n",
       "    .dataframe tbody tr th:only-of-type {\n",
       "        vertical-align: middle;\n",
       "    }\n",
       "\n",
       "    .dataframe tbody tr th {\n",
       "        vertical-align: top;\n",
       "    }\n",
       "\n",
       "    .dataframe thead th {\n",
       "        text-align: right;\n",
       "    }\n",
       "</style>\n",
       "<table border=\"1\" class=\"dataframe\">\n",
       "  <thead>\n",
       "    <tr style=\"text-align: right;\">\n",
       "      <th></th>\n",
       "      <th>time</th>\n",
       "      <th>confirmed</th>\n",
       "      <th>deceased</th>\n",
       "      <th>ratio</th>\n",
       "    </tr>\n",
       "    <tr>\n",
       "      <th>age</th>\n",
       "      <th></th>\n",
       "      <th></th>\n",
       "      <th></th>\n",
       "      <th></th>\n",
       "    </tr>\n",
       "  </thead>\n",
       "  <tbody>\n",
       "    <tr>\n",
       "      <th>0s</th>\n",
       "      <td>0</td>\n",
       "      <td>16107</td>\n",
       "      <td>0</td>\n",
       "      <td>0.000000</td>\n",
       "    </tr>\n",
       "    <tr>\n",
       "      <th>10s</th>\n",
       "      <td>0</td>\n",
       "      <td>68752</td>\n",
       "      <td>0</td>\n",
       "      <td>0.000000</td>\n",
       "    </tr>\n",
       "    <tr>\n",
       "      <th>20s</th>\n",
       "      <td>0</td>\n",
       "      <td>345827</td>\n",
       "      <td>0</td>\n",
       "      <td>0.000000</td>\n",
       "    </tr>\n",
       "    <tr>\n",
       "      <th>30s</th>\n",
       "      <td>0</td>\n",
       "      <td>137539</td>\n",
       "      <td>194</td>\n",
       "      <td>0.001411</td>\n",
       "    </tr>\n",
       "    <tr>\n",
       "      <th>40s</th>\n",
       "      <td>0</td>\n",
       "      <td>168250</td>\n",
       "      <td>295</td>\n",
       "      <td>0.001753</td>\n",
       "    </tr>\n",
       "    <tr>\n",
       "      <th>50s</th>\n",
       "      <td>0</td>\n",
       "      <td>230030</td>\n",
       "      <td>1537</td>\n",
       "      <td>0.006682</td>\n",
       "    </tr>\n",
       "    <tr>\n",
       "      <th>60s</th>\n",
       "      <td>0</td>\n",
       "      <td>158505</td>\n",
       "      <td>3743</td>\n",
       "      <td>0.023614</td>\n",
       "    </tr>\n",
       "    <tr>\n",
       "      <th>70s</th>\n",
       "      <td>0</td>\n",
       "      <td>82107</td>\n",
       "      <td>7599</td>\n",
       "      <td>0.092550</td>\n",
       "    </tr>\n",
       "    <tr>\n",
       "      <th>80s</th>\n",
       "      <td>0</td>\n",
       "      <td>54086</td>\n",
       "      <td>12136</td>\n",
       "      <td>0.224383</td>\n",
       "    </tr>\n",
       "  </tbody>\n",
       "</table>\n",
       "</div>"
      ],
      "text/plain": [
       "     time  confirmed  deceased     ratio\n",
       "age                                     \n",
       "0s      0      16107         0  0.000000\n",
       "10s     0      68752         0  0.000000\n",
       "20s     0     345827         0  0.000000\n",
       "30s     0     137539       194  0.001411\n",
       "40s     0     168250       295  0.001753\n",
       "50s     0     230030      1537  0.006682\n",
       "60s     0     158505      3743  0.023614\n",
       "70s     0      82107      7599  0.092550\n",
       "80s     0      54086     12136  0.224383"
      ]
     },
     "execution_count": 14,
     "metadata": {},
     "output_type": "execute_result"
    }
   ],
   "source": [
    "age_grouped['ratio'] = age_grouped['deceased'] / age_grouped['confirmed']\n",
    "age_grouped"
   ]
  },
  {
   "cell_type": "code",
   "execution_count": 17,
   "id": "korean-pride",
   "metadata": {},
   "outputs": [
    {
     "data": {
      "text/plain": [
       "<AxesSubplot:ylabel='age'>"
      ]
     },
     "execution_count": 17,
     "metadata": {},
     "output_type": "execute_result"
    },
    {
     "data": {
      "image/png": "[encoded data removed]",
      "text/plain": [
       "<Figure size 720x720 with 1 Axes>"
      ]
     },
     "metadata": {
      "needs_background": "light"
     },
     "output_type": "display_data"
    }
   ],
   "source": [
    "df=pd.DataFrame(age_grouped)\n",
    "df.plot(kind = \"barh\",color='g', y = 'ratio', alpha=0.3, figsize=(10, 10))"
   ]
  },
  {
   "cell_type": "markdown",
   "id": "mediterranean-nothing",
   "metadata": {},
   "source": [
    "- 나이가 올라감에 따라 치사율이 올라가는 것을 확인할 수 있다.\n",
    "- 70대와 80대가 압도적으로 높다."
   ]
  },
  {
   "cell_type": "markdown",
   "id": "earlier-episode",
   "metadata": {},
   "source": [
    "# 성별과 치사율의 관계"
   ]
  },
  {
   "cell_type": "code",
   "execution_count": 18,
   "id": "thick-george",
   "metadata": {},
   "outputs": [],
   "source": [
    "time_gender = pd.read_csv('data/TimeGender.csv')"
   ]
  },
  {
   "cell_type": "code",
   "execution_count": 19,
   "id": "trying-newport",
   "metadata": {},
   "outputs": [
    {
     "data": {
      "text/html": [
       "<div>\n",
       "<style scoped>\n",
       "    .dataframe tbody tr th:only-of-type {\n",
       "        vertical-align: middle;\n",
       "    }\n",
       "\n",
       "    .dataframe tbody tr th {\n",
       "        vertical-align: top;\n",
       "    }\n",
       "\n",
       "    .dataframe thead th {\n",
       "        text-align: right;\n",
       "    }\n",
       "</style>\n",
       "<table border=\"1\" class=\"dataframe\">\n",
       "  <thead>\n",
       "    <tr style=\"text-align: right;\">\n",
       "      <th></th>\n",
       "      <th>date</th>\n",
       "      <th>time</th>\n",
       "      <th>sex</th>\n",
       "      <th>confirmed</th>\n",
       "      <th>deceased</th>\n",
       "    </tr>\n",
       "  </thead>\n",
       "  <tbody>\n",
       "    <tr>\n",
       "      <th>0</th>\n",
       "      <td>2020-03-02</td>\n",
       "      <td>0</td>\n",
       "      <td>male</td>\n",
       "      <td>1591</td>\n",
       "      <td>13</td>\n",
       "    </tr>\n",
       "    <tr>\n",
       "      <th>1</th>\n",
       "      <td>2020-03-02</td>\n",
       "      <td>0</td>\n",
       "      <td>female</td>\n",
       "      <td>2621</td>\n",
       "      <td>9</td>\n",
       "    </tr>\n",
       "    <tr>\n",
       "      <th>2</th>\n",
       "      <td>2020-03-03</td>\n",
       "      <td>0</td>\n",
       "      <td>male</td>\n",
       "      <td>1810</td>\n",
       "      <td>16</td>\n",
       "    </tr>\n",
       "    <tr>\n",
       "      <th>3</th>\n",
       "      <td>2020-03-03</td>\n",
       "      <td>0</td>\n",
       "      <td>female</td>\n",
       "      <td>3002</td>\n",
       "      <td>12</td>\n",
       "    </tr>\n",
       "    <tr>\n",
       "      <th>4</th>\n",
       "      <td>2020-03-04</td>\n",
       "      <td>0</td>\n",
       "      <td>male</td>\n",
       "      <td>1996</td>\n",
       "      <td>20</td>\n",
       "    </tr>\n",
       "    <tr>\n",
       "      <th>...</th>\n",
       "      <td>...</td>\n",
       "      <td>...</td>\n",
       "      <td>...</td>\n",
       "      <td>...</td>\n",
       "      <td>...</td>\n",
       "    </tr>\n",
       "    <tr>\n",
       "      <th>237</th>\n",
       "      <td>2020-06-28</td>\n",
       "      <td>0</td>\n",
       "      <td>female</td>\n",
       "      <td>7265</td>\n",
       "      <td>131</td>\n",
       "    </tr>\n",
       "    <tr>\n",
       "      <th>238</th>\n",
       "      <td>2020-06-29</td>\n",
       "      <td>0</td>\n",
       "      <td>male</td>\n",
       "      <td>5470</td>\n",
       "      <td>151</td>\n",
       "    </tr>\n",
       "    <tr>\n",
       "      <th>239</th>\n",
       "      <td>2020-06-29</td>\n",
       "      <td>0</td>\n",
       "      <td>female</td>\n",
       "      <td>7287</td>\n",
       "      <td>131</td>\n",
       "    </tr>\n",
       "    <tr>\n",
       "      <th>240</th>\n",
       "      <td>2020-06-30</td>\n",
       "      <td>0</td>\n",
       "      <td>male</td>\n",
       "      <td>5495</td>\n",
       "      <td>151</td>\n",
       "    </tr>\n",
       "    <tr>\n",
       "      <th>241</th>\n",
       "      <td>2020-06-30</td>\n",
       "      <td>0</td>\n",
       "      <td>female</td>\n",
       "      <td>7305</td>\n",
       "      <td>131</td>\n",
       "    </tr>\n",
       "  </tbody>\n",
       "</table>\n",
       "<p>242 rows × 5 columns</p>\n",
       "</div>"
      ],
      "text/plain": [
       "           date  time     sex  confirmed  deceased\n",
       "0    2020-03-02     0    male       1591        13\n",
       "1    2020-03-02     0  female       2621         9\n",
       "2    2020-03-03     0    male       1810        16\n",
       "3    2020-03-03     0  female       3002        12\n",
       "4    2020-03-04     0    male       1996        20\n",
       "..          ...   ...     ...        ...       ...\n",
       "237  2020-06-28     0  female       7265       131\n",
       "238  2020-06-29     0    male       5470       151\n",
       "239  2020-06-29     0  female       7287       131\n",
       "240  2020-06-30     0    male       5495       151\n",
       "241  2020-06-30     0  female       7305       131\n",
       "\n",
       "[242 rows x 5 columns]"
      ]
     },
     "execution_count": 19,
     "metadata": {},
     "output_type": "execute_result"
    }
   ],
   "source": [
    "time_gender"
   ]
  },
  {
   "cell_type": "code",
   "execution_count": 20,
   "id": "sitting-timothy",
   "metadata": {},
   "outputs": [
    {
     "data": {
      "text/html": [
       "<div>\n",
       "<style scoped>\n",
       "    .dataframe tbody tr th:only-of-type {\n",
       "        vertical-align: middle;\n",
       "    }\n",
       "\n",
       "    .dataframe tbody tr th {\n",
       "        vertical-align: top;\n",
       "    }\n",
       "\n",
       "    .dataframe thead th {\n",
       "        text-align: right;\n",
       "    }\n",
       "</style>\n",
       "<table border=\"1\" class=\"dataframe\">\n",
       "  <thead>\n",
       "    <tr style=\"text-align: right;\">\n",
       "      <th></th>\n",
       "      <th>time</th>\n",
       "      <th>confirmed</th>\n",
       "      <th>deceased</th>\n",
       "    </tr>\n",
       "    <tr>\n",
       "      <th>sex</th>\n",
       "      <th></th>\n",
       "      <th></th>\n",
       "      <th></th>\n",
       "    </tr>\n",
       "  </thead>\n",
       "  <tbody>\n",
       "    <tr>\n",
       "      <th>female</th>\n",
       "      <td>0</td>\n",
       "      <td>747467</td>\n",
       "      <td>12019</td>\n",
       "    </tr>\n",
       "    <tr>\n",
       "      <th>male</th>\n",
       "      <td>0</td>\n",
       "      <td>513727</td>\n",
       "      <td>13484</td>\n",
       "    </tr>\n",
       "  </tbody>\n",
       "</table>\n",
       "</div>"
      ],
      "text/plain": [
       "        time  confirmed  deceased\n",
       "sex                              \n",
       "female     0     747467     12019\n",
       "male       0     513727     13484"
      ]
     },
     "execution_count": 20,
     "metadata": {},
     "output_type": "execute_result"
    }
   ],
   "source": [
    "gender_grouped = time_gender.groupby('sex').sum()\n",
    "gender_grouped"
   ]
  },
  {
   "cell_type": "code",
   "execution_count": 31,
   "id": "bound-freeware",
   "metadata": {},
   "outputs": [
    {
     "data": {
      "text/plain": [
       "<AxesSubplot:xlabel='sex'>"
      ]
     },
     "execution_count": 31,
     "metadata": {},
     "output_type": "execute_result"
    },
    {
     "data": {
      "image/png": "[encoded data removed]",
      "text/plain": [
       "<Figure size 720x720 with 1 Axes>"
      ]
     },
     "metadata": {
      "needs_background": "light"
     },
     "output_type": "display_data"
    }
   ],
   "source": [
    "df=pd.DataFrame(gender_grouped)\n",
    "df.plot(kind = \"bar\",color='r', y = 'confirmed', alpha=0.3, figsize=(10, 10))"
   ]
  },
  {
   "cell_type": "code",
   "execution_count": 24,
   "id": "amazing-thomas",
   "metadata": {},
   "outputs": [
    {
     "data": {
      "text/html": [
       "<div>\n",
       "<style scoped>\n",
       "    .dataframe tbody tr th:only-of-type {\n",
       "        vertical-align: middle;\n",
       "    }\n",
       "\n",
       "    .dataframe tbody tr th {\n",
       "        vertical-align: top;\n",
       "    }\n",
       "\n",
       "    .dataframe thead th {\n",
       "        text-align: right;\n",
       "    }\n",
       "</style>\n",
       "<table border=\"1\" class=\"dataframe\">\n",
       "  <thead>\n",
       "    <tr style=\"text-align: right;\">\n",
       "      <th></th>\n",
       "      <th>time</th>\n",
       "      <th>confirmed</th>\n",
       "      <th>deceased</th>\n",
       "      <th>ratio</th>\n",
       "    </tr>\n",
       "    <tr>\n",
       "      <th>sex</th>\n",
       "      <th></th>\n",
       "      <th></th>\n",
       "      <th></th>\n",
       "      <th></th>\n",
       "    </tr>\n",
       "  </thead>\n",
       "  <tbody>\n",
       "    <tr>\n",
       "      <th>female</th>\n",
       "      <td>0</td>\n",
       "      <td>747467</td>\n",
       "      <td>12019</td>\n",
       "      <td>0.016080</td>\n",
       "    </tr>\n",
       "    <tr>\n",
       "      <th>male</th>\n",
       "      <td>0</td>\n",
       "      <td>513727</td>\n",
       "      <td>13484</td>\n",
       "      <td>0.026247</td>\n",
       "    </tr>\n",
       "  </tbody>\n",
       "</table>\n",
       "</div>"
      ],
      "text/plain": [
       "        time  confirmed  deceased     ratio\n",
       "sex                                        \n",
       "female     0     747467     12019  0.016080\n",
       "male       0     513727     13484  0.026247"
      ]
     },
     "execution_count": 24,
     "metadata": {},
     "output_type": "execute_result"
    }
   ],
   "source": [
    "gender_grouped['ratio'] = gender_grouped['deceased'] / gender_grouped['confirmed']\n",
    "gender_grouped"
   ]
  },
  {
   "cell_type": "code",
   "execution_count": 30,
   "id": "described-nancy",
   "metadata": {},
   "outputs": [
    {
     "data": {
      "text/plain": [
       "<AxesSubplot:ylabel='ratio'>"
      ]
     },
     "execution_count": 30,
     "metadata": {},
     "output_type": "execute_result"
    },
    {
     "data": {
      "image/png": "[encoded data removed]",
      "text/plain": [
       "<Figure size 720x720 with 1 Axes>"
      ]
     },
     "metadata": {},
     "output_type": "display_data"
    }
   ],
   "source": [
    "df=pd.DataFrame(gender_grouped)\n",
    "df.plot(kind = \"pie\",y = 'ratio',figsize=(10, 10),normalize=True)"
   ]
  },
  {
   "cell_type": "markdown",
   "id": "contemporary-moore",
   "metadata": {},
   "source": [
    "- 확진자의 수는 여성이 남성보다 많았지만 치명률은 반대이다."
   ]
  },
  {
   "cell_type": "markdown",
   "id": "settled-period",
   "metadata": {},
   "source": [
    "## 결론\n",
    "- 연령대가 높을 수록 치명률이 높고, 남성이 여성보다 치명률이 높다.\n",
    "- 20대에 확진자가 제일 많았다.\n",
    "\n",
    "-> 20대의 확진자 수가 많은 이유를 찾고자 한다."
   ]
  },
  {
   "cell_type": "code",
   "execution_count": null,
   "id": "guilty-makeup",
   "metadata": {},
   "outputs": [],
   "source": []
  }
 ],
 "metadata": {
  "kernelspec": {
   "display_name": "Python 3",
   "language": "python",
   "name": "python3"
  },
  "language_info": {
   "codemirror_mode": {
    "name": "ipython",
    "version": 3
   },
   "file_extension": ".py",
   "mimetype": "text/x-python",
   "name": "python",
   "nbconvert_exporter": "python",
   "pygments_lexer": "ipython3",
   "version": "3.7.9"
  }
 },
 "nbformat": 4,
 "nbformat_minor": 5
}
