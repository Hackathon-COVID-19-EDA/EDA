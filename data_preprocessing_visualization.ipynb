{
 "cells": [
  {
   "cell_type": "markdown",
   "id": "legislative-transsexual",
   "metadata": {},
   "source": [
    "# 1. 서울 20,30대의 구역별 코로나 확진자 - 바차트"
   ]
  },
  {
   "cell_type": "code",
   "execution_count": null,
   "id": "colonial-purchase",
   "metadata": {},
   "outputs": [],
   "source": [
    "import os\n",
    "from os.path import join\n",
    "\n",
    "import pandas as pd\n",
    "import numpy as np\n",
    "import matplotlib.pyplot as plt\n",
    "import seaborn as sns"
   ]
  },
  {
   "cell_type": "code",
   "execution_count": 4,
   "id": "focal-fancy",
   "metadata": {},
   "outputs": [],
   "source": [
    "# case_data_path = join('../data', 'Case.csv')"
   ]
  },
  {
   "cell_type": "code",
   "execution_count": null,
   "id": "connected-aquarium",
   "metadata": {},
   "outputs": [],
   "source": [
    "case = pd.read_csv('../data/Case.csv', sep='\\t')\n",
    "df = pd.read_csv('../data/PatientInfo.csv', sep='\\t')\n",
    "policy = pd.read_csv('../data/Policy.csv', sep='\\t')\n",
    "region = pd.read_csv('../data/Region.csv', sep='\\t')\n",
    "searchtrend = pd.read_csv('../data/SearchTrend.csv', sep='\\t')\n",
    "seoulfloating = pd.read_csv('../data/SeoulFloating.csv', sep='\\t')\n",
    "time = pd.read_csv('../data/Time.csv', sep='\\t')\n",
    "# starbucks = pd.read_csv('../data/starbucks.csv', sep='\\t')\n",
    "\n",
    "\n",
    "# 이렇게 해야 컬럼에서 에러가 안남\n",
    "df= pd.read_csv('../data/PatientInfo.csv', delimiter=',' ,sep=r', ') \n",
    "# seoul= pd.read_csv('../data/seoul_covid2021.csv', delimiter=',' ,sep=r', ') "
   ]
  },
  {
   "cell_type": "code",
   "execution_count": 56,
   "id": "colonial-management",
   "metadata": {},
   "outputs": [
    {
     "name": "stdout",
     "output_type": "stream",
     "text": [
      "    date,time,test,negative,confirmed,released,deceased\n",
      "0                              2020-01-20,16,1,0,1,0,0 \n",
      "1                              2020-01-21,16,1,0,1,0,0 \n",
      "2                              2020-01-22,16,4,3,1,0,0 \n",
      "3                            2020-01-23,16,22,21,1,0,0 \n",
      "4                            2020-01-24,16,27,25,2,0,0 \n",
      "..                                                 ... \n",
      "158       2020-06-26,0,1232315,1200885,12602,11172,282 \n",
      "159       2020-06-27,0,1243780,1211261,12653,11317,282 \n",
      "160       2020-06-28,0,1251695,1219975,12715,11364,282 \n",
      "161       2020-06-29,0,1259954,1228698,12757,11429,282 \n",
      "162       2020-06-30,0,1273766,1240157,12800,11537,282 \n",
      "\n",
      "[163 rows x 1 columns]\n"
     ]
    }
   ],
   "source": [
    "print(time)"
   ]
  },
  {
   "cell_type": "code",
   "execution_count": 57,
   "id": "hearing-partnership",
   "metadata": {},
   "outputs": [
    {
     "name": "stdout",
     "output_type": "stream",
     "text": [
      "  date,time,test,negative,confirmed,released,deceased\n",
      "0                            2020-01-20,16,1,0,1,0,0 \n",
      "1                            2020-01-21,16,1,0,1,0,0 \n",
      "2                            2020-01-22,16,4,3,1,0,0 \n",
      "3                          2020-01-23,16,22,21,1,0,0 \n",
      "4                          2020-01-24,16,27,25,2,0,0 \n"
     ]
    }
   ],
   "source": [
    "print(time.head())"
   ]
  },
  {
   "cell_type": "code",
   "execution_count": 58,
   "id": "nervous-truth",
   "metadata": {},
   "outputs": [
    {
     "name": "stdout",
     "output_type": "stream",
     "text": [
      "Index(['patient_id', 'sex', 'age', 'country', 'province', 'city',\n",
      "       'infection_case', 'infected_by', 'contact_number', 'symptom_onset_date',\n",
      "       'confirmed_date', 'released_date', 'deceased_date', 'state'],\n",
      "      dtype='object')\n"
     ]
    }
   ],
   "source": [
    "print(df.columns)"
   ]
  },
  {
   "cell_type": "code",
   "execution_count": 59,
   "id": "dramatic-internship",
   "metadata": {},
   "outputs": [
    {
     "data": {
      "text/html": [
       "<div>\n",
       "<style scoped>\n",
       "    .dataframe tbody tr th:only-of-type {\n",
       "        vertical-align: middle;\n",
       "    }\n",
       "\n",
       "    .dataframe tbody tr th {\n",
       "        vertical-align: top;\n",
       "    }\n",
       "\n",
       "    .dataframe thead th {\n",
       "        text-align: right;\n",
       "    }\n",
       "</style>\n",
       "<table border=\"1\" class=\"dataframe\">\n",
       "  <thead>\n",
       "    <tr style=\"text-align: right;\">\n",
       "      <th></th>\n",
       "      <th>patient_id</th>\n",
       "      <th>sex</th>\n",
       "      <th>age</th>\n",
       "      <th>country</th>\n",
       "      <th>province</th>\n",
       "      <th>city</th>\n",
       "      <th>infection_case</th>\n",
       "      <th>infected_by</th>\n",
       "      <th>contact_number</th>\n",
       "      <th>symptom_onset_date</th>\n",
       "      <th>confirmed_date</th>\n",
       "      <th>released_date</th>\n",
       "      <th>deceased_date</th>\n",
       "      <th>state</th>\n",
       "    </tr>\n",
       "  </thead>\n",
       "  <tbody>\n",
       "    <tr>\n",
       "      <th>0</th>\n",
       "      <td>1000000001</td>\n",
       "      <td>male</td>\n",
       "      <td>50s</td>\n",
       "      <td>Korea</td>\n",
       "      <td>Seoul</td>\n",
       "      <td>Gangseo-gu</td>\n",
       "      <td>overseas inflow</td>\n",
       "      <td>NaN</td>\n",
       "      <td>75</td>\n",
       "      <td>2020-01-22</td>\n",
       "      <td>2020-01-23</td>\n",
       "      <td>2020-02-05</td>\n",
       "      <td>NaN</td>\n",
       "      <td>released</td>\n",
       "    </tr>\n",
       "    <tr>\n",
       "      <th>1</th>\n",
       "      <td>1000000002</td>\n",
       "      <td>male</td>\n",
       "      <td>30s</td>\n",
       "      <td>Korea</td>\n",
       "      <td>Seoul</td>\n",
       "      <td>Jungnang-gu</td>\n",
       "      <td>overseas inflow</td>\n",
       "      <td>NaN</td>\n",
       "      <td>31</td>\n",
       "      <td>NaN</td>\n",
       "      <td>2020-01-30</td>\n",
       "      <td>2020-03-02</td>\n",
       "      <td>NaN</td>\n",
       "      <td>released</td>\n",
       "    </tr>\n",
       "    <tr>\n",
       "      <th>2</th>\n",
       "      <td>1000000003</td>\n",
       "      <td>male</td>\n",
       "      <td>50s</td>\n",
       "      <td>Korea</td>\n",
       "      <td>Seoul</td>\n",
       "      <td>Jongno-gu</td>\n",
       "      <td>contact with patient</td>\n",
       "      <td>2002000001</td>\n",
       "      <td>17</td>\n",
       "      <td>NaN</td>\n",
       "      <td>2020-01-30</td>\n",
       "      <td>2020-02-19</td>\n",
       "      <td>NaN</td>\n",
       "      <td>released</td>\n",
       "    </tr>\n",
       "    <tr>\n",
       "      <th>3</th>\n",
       "      <td>1000000004</td>\n",
       "      <td>male</td>\n",
       "      <td>20s</td>\n",
       "      <td>Korea</td>\n",
       "      <td>Seoul</td>\n",
       "      <td>Mapo-gu</td>\n",
       "      <td>overseas inflow</td>\n",
       "      <td>NaN</td>\n",
       "      <td>9</td>\n",
       "      <td>2020-01-26</td>\n",
       "      <td>2020-01-30</td>\n",
       "      <td>2020-02-15</td>\n",
       "      <td>NaN</td>\n",
       "      <td>released</td>\n",
       "    </tr>\n",
       "    <tr>\n",
       "      <th>4</th>\n",
       "      <td>1000000005</td>\n",
       "      <td>female</td>\n",
       "      <td>20s</td>\n",
       "      <td>Korea</td>\n",
       "      <td>Seoul</td>\n",
       "      <td>Seongbuk-gu</td>\n",
       "      <td>contact with patient</td>\n",
       "      <td>1000000002</td>\n",
       "      <td>2</td>\n",
       "      <td>NaN</td>\n",
       "      <td>2020-01-31</td>\n",
       "      <td>2020-02-24</td>\n",
       "      <td>NaN</td>\n",
       "      <td>released</td>\n",
       "    </tr>\n",
       "  </tbody>\n",
       "</table>\n",
       "</div>"
      ],
      "text/plain": [
       "   patient_id     sex  age country province         city  \\\n",
       "0  1000000001    male  50s   Korea    Seoul   Gangseo-gu   \n",
       "1  1000000002    male  30s   Korea    Seoul  Jungnang-gu   \n",
       "2  1000000003    male  50s   Korea    Seoul    Jongno-gu   \n",
       "3  1000000004    male  20s   Korea    Seoul      Mapo-gu   \n",
       "4  1000000005  female  20s   Korea    Seoul  Seongbuk-gu   \n",
       "\n",
       "         infection_case infected_by contact_number symptom_onset_date  \\\n",
       "0       overseas inflow         NaN             75         2020-01-22   \n",
       "1       overseas inflow         NaN             31                NaN   \n",
       "2  contact with patient  2002000001             17                NaN   \n",
       "3       overseas inflow         NaN              9         2020-01-26   \n",
       "4  contact with patient  1000000002              2                NaN   \n",
       "\n",
       "  confirmed_date released_date deceased_date     state  \n",
       "0     2020-01-23    2020-02-05           NaN  released  \n",
       "1     2020-01-30    2020-03-02           NaN  released  \n",
       "2     2020-01-30    2020-02-19           NaN  released  \n",
       "3     2020-01-30    2020-02-15           NaN  released  \n",
       "4     2020-01-31    2020-02-24           NaN  released  "
      ]
     },
     "execution_count": 59,
     "metadata": {},
     "output_type": "execute_result"
    }
   ],
   "source": [
    "df.head()"
   ]
  },
  {
   "cell_type": "code",
   "execution_count": 60,
   "id": "interstate-paradise",
   "metadata": {},
   "outputs": [
    {
     "name": "stdout",
     "output_type": "stream",
     "text": [
      "<class 'pandas.core.frame.DataFrame'>\n",
      "RangeIndex: 5165 entries, 0 to 5164\n",
      "Data columns (total 14 columns):\n",
      " #   Column              Non-Null Count  Dtype \n",
      "---  ------              --------------  ----- \n",
      " 0   patient_id          5165 non-null   int64 \n",
      " 1   sex                 4043 non-null   object\n",
      " 2   age                 3785 non-null   object\n",
      " 3   country             5165 non-null   object\n",
      " 4   province            5165 non-null   object\n",
      " 5   city                5071 non-null   object\n",
      " 6   infection_case      4246 non-null   object\n",
      " 7   infected_by         1346 non-null   object\n",
      " 8   contact_number      791 non-null    object\n",
      " 9   symptom_onset_date  690 non-null    object\n",
      " 10  confirmed_date      5162 non-null   object\n",
      " 11  released_date       1587 non-null   object\n",
      " 12  deceased_date       66 non-null     object\n",
      " 13  state               5165 non-null   object\n",
      "dtypes: int64(1), object(13)\n",
      "memory usage: 565.0+ KB\n",
      "None\n"
     ]
    }
   ],
   "source": [
    "print(df.info())"
   ]
  },
  {
   "cell_type": "code",
   "execution_count": 90,
   "id": "graduate-idaho",
   "metadata": {},
   "outputs": [],
   "source": [
    "df2=df[['age','province', 'city']]\n",
    "# df3=df2[df2['age'] == '20s']\n",
    "# df3=df2[df2['province'] == 'Seoul']\n",
    "\n",
    "df3=df2[((df2['age'] =='20s' )| (df2['age'] =='30s' ) )& (df['province']=='Seoul')]\n",
    "df4=df3[['age','city']]"
   ]
  },
  {
   "cell_type": "code",
   "execution_count": 91,
   "id": "civil-behalf",
   "metadata": {},
   "outputs": [
    {
     "name": "stdout",
     "output_type": "stream",
     "text": [
      "     age          city\n",
      "1    30s   Jungnang-gu\n",
      "3    20s       Mapo-gu\n",
      "4    20s   Seongbuk-gu\n",
      "6    20s     Jongno-gu\n",
      "7    20s           etc\n",
      "..   ...           ...\n",
      "699  30s  Yangcheon-gu\n",
      "737  20s  Yangcheon-gu\n",
      "738  20s  Yangcheon-gu\n",
      "753  30s  Yangcheon-gu\n",
      "880  30s    Gangseo-gu\n",
      "\n",
      "[265 rows x 2 columns]\n"
     ]
    }
   ],
   "source": [
    "print(df4)"
   ]
  },
  {
   "cell_type": "code",
   "execution_count": 92,
   "id": "massive-nudist",
   "metadata": {},
   "outputs": [],
   "source": [
    "df5=df4['city'].value_counts()"
   ]
  },
  {
   "cell_type": "code",
   "execution_count": 95,
   "id": "romantic-control",
   "metadata": {},
   "outputs": [
    {
     "data": {
      "image/png": "[encoded data removed]",
      "text/plain": [
       "<Figure size 1440x720 with 1 Axes>"
      ]
     },
     "metadata": {
      "needs_background": "light"
     },
     "output_type": "display_data"
    }
   ],
   "source": [
    "df5.plot(kind='bar')\n",
    "\n",
    "plt.rcParams['font.family'] = 'Malgun Gothic'\n",
    "plt.title('서울 20,30대의 구역별 코로나 확진자',fontsize=20) ## 타이틀 출력\n",
    "plt.xlabel('지역구') ## x축 라벨 출력\n",
    "plt.ylabel('환진자수') \n",
    "\n",
    "plt.show()"
   ]
  },
  {
   "cell_type": "markdown",
   "id": "minimal-return",
   "metadata": {},
   "source": [
    "# Day2-키워드 관심도"
   ]
  },
  {
   "cell_type": "code",
   "execution_count": 6,
   "id": "trained-douglas",
   "metadata": {},
   "outputs": [],
   "source": [
    "tr= pd.read_csv('../data/SearchTrend.csv', delimiter=',' ,sep=r', ') "
   ]
  },
  {
   "cell_type": "code",
   "execution_count": 7,
   "id": "happy-savings",
   "metadata": {},
   "outputs": [
    {
     "data": {
      "text/plain": [
       "Index(['date', 'cold', 'flu', 'pneumonia', 'coronavirus'], dtype='object')"
      ]
     },
     "execution_count": 7,
     "metadata": {},
     "output_type": "execute_result"
    }
   ],
   "source": [
    "tr.columns"
   ]
  },
  {
   "cell_type": "code",
   "execution_count": 8,
   "id": "reported-procedure",
   "metadata": {},
   "outputs": [
    {
     "data": {
      "text/html": [
       "<div>\n",
       "<style scoped>\n",
       "    .dataframe tbody tr th:only-of-type {\n",
       "        vertical-align: middle;\n",
       "    }\n",
       "\n",
       "    .dataframe tbody tr th {\n",
       "        vertical-align: top;\n",
       "    }\n",
       "\n",
       "    .dataframe thead th {\n",
       "        text-align: right;\n",
       "    }\n",
       "</style>\n",
       "<table border=\"1\" class=\"dataframe\">\n",
       "  <thead>\n",
       "    <tr style=\"text-align: right;\">\n",
       "      <th></th>\n",
       "      <th>date</th>\n",
       "      <th>cold</th>\n",
       "      <th>flu</th>\n",
       "      <th>pneumonia</th>\n",
       "      <th>coronavirus</th>\n",
       "    </tr>\n",
       "  </thead>\n",
       "  <tbody>\n",
       "    <tr>\n",
       "      <th>0</th>\n",
       "      <td>2016-01-01</td>\n",
       "      <td>0.11663</td>\n",
       "      <td>0.05590</td>\n",
       "      <td>0.15726</td>\n",
       "      <td>0.00736</td>\n",
       "    </tr>\n",
       "    <tr>\n",
       "      <th>1</th>\n",
       "      <td>2016-01-02</td>\n",
       "      <td>0.13372</td>\n",
       "      <td>0.17135</td>\n",
       "      <td>0.20826</td>\n",
       "      <td>0.00890</td>\n",
       "    </tr>\n",
       "    <tr>\n",
       "      <th>2</th>\n",
       "      <td>2016-01-03</td>\n",
       "      <td>0.14917</td>\n",
       "      <td>0.22317</td>\n",
       "      <td>0.19326</td>\n",
       "      <td>0.00845</td>\n",
       "    </tr>\n",
       "    <tr>\n",
       "      <th>3</th>\n",
       "      <td>2016-01-04</td>\n",
       "      <td>0.17463</td>\n",
       "      <td>0.18626</td>\n",
       "      <td>0.29008</td>\n",
       "      <td>0.01145</td>\n",
       "    </tr>\n",
       "    <tr>\n",
       "      <th>4</th>\n",
       "      <td>2016-01-05</td>\n",
       "      <td>0.17226</td>\n",
       "      <td>0.15072</td>\n",
       "      <td>0.24562</td>\n",
       "      <td>0.01381</td>\n",
       "    </tr>\n",
       "  </tbody>\n",
       "</table>\n",
       "</div>"
      ],
      "text/plain": [
       "         date     cold      flu  pneumonia  coronavirus\n",
       "0  2016-01-01  0.11663  0.05590    0.15726      0.00736\n",
       "1  2016-01-02  0.13372  0.17135    0.20826      0.00890\n",
       "2  2016-01-03  0.14917  0.22317    0.19326      0.00845\n",
       "3  2016-01-04  0.17463  0.18626    0.29008      0.01145\n",
       "4  2016-01-05  0.17226  0.15072    0.24562      0.01381"
      ]
     },
     "execution_count": 8,
     "metadata": {},
     "output_type": "execute_result"
    }
   ],
   "source": [
    "tr.head()"
   ]
  },
  {
   "cell_type": "code",
   "execution_count": 9,
   "id": "undefined-council",
   "metadata": {
    "scrolled": true
   },
   "outputs": [
    {
     "data": {
      "text/plain": [
       "<bound method DataFrame.info of             date     cold      flu  pneumonia  coronavirus\n",
       "0     2016-01-01  0.11663  0.05590    0.15726      0.00736\n",
       "1     2016-01-02  0.13372  0.17135    0.20826      0.00890\n",
       "2     2016-01-03  0.14917  0.22317    0.19326      0.00845\n",
       "3     2016-01-04  0.17463  0.18626    0.29008      0.01145\n",
       "4     2016-01-05  0.17226  0.15072    0.24562      0.01381\n",
       "...          ...      ...      ...        ...          ...\n",
       "1637  2020-06-25  0.12072  0.04190    0.11936      2.16993\n",
       "1638  2020-06-26  0.11381  0.03027    0.11317      2.15139\n",
       "1639  2020-06-27  0.10554  0.02136    0.08354      1.96848\n",
       "1640  2020-06-28  0.12563  0.02872    0.08072      2.19720\n",
       "1641  2020-06-29  0.14263  0.04308    0.11254      2.41501\n",
       "\n",
       "[1642 rows x 5 columns]>"
      ]
     },
     "execution_count": 9,
     "metadata": {},
     "output_type": "execute_result"
    }
   ],
   "source": [
    "tr.info"
   ]
  },
  {
   "cell_type": "code",
   "execution_count": 10,
   "id": "hairy-torture",
   "metadata": {
    "scrolled": true
   },
   "outputs": [
    {
     "data": {
      "text/plain": [
       "<AxesSubplot:>"
      ]
     },
     "execution_count": 10,
     "metadata": {},
     "output_type": "execute_result"
    },
    {
     "data": {
      "image/png": "[encoded data removed]",
      "text/plain": [
       "<Figure size 1440x720 with 1 Axes>"
      ]
     },
     "metadata": {
      "needs_background": "light"
     },
     "output_type": "display_data"
    }
   ],
   "source": [
    "tr['coronavirus'].hist(bins=100)\n"
   ]
  },
  {
   "cell_type": "code",
   "execution_count": null,
   "id": "rational-hampton",
   "metadata": {},
   "outputs": [],
   "source": [
    "tr.plot(kind='bar')\n",
    "plt.show()"
   ]
  },
  {
   "cell_type": "code",
   "execution_count": null,
   "id": "vertical-answer",
   "metadata": {},
   "outputs": [],
   "source": [
    "sns.histplot(x=tr['coronavirus'])"
   ]
  },
  {
   "cell_type": "code",
   "execution_count": 15,
   "id": "chemical-sequence",
   "metadata": {},
   "outputs": [
    {
     "data": {
      "text/html": [
       "<div>\n",
       "<style scoped>\n",
       "    .dataframe tbody tr th:only-of-type {\n",
       "        vertical-align: middle;\n",
       "    }\n",
       "\n",
       "    .dataframe tbody tr th {\n",
       "        vertical-align: top;\n",
       "    }\n",
       "\n",
       "    .dataframe thead th {\n",
       "        text-align: right;\n",
       "    }\n",
       "</style>\n",
       "<table border=\"1\" class=\"dataframe\">\n",
       "  <thead>\n",
       "    <tr style=\"text-align: right;\">\n",
       "      <th></th>\n",
       "      <th>date</th>\n",
       "      <th>cold</th>\n",
       "      <th>flu</th>\n",
       "      <th>pneumonia</th>\n",
       "      <th>coronavirus</th>\n",
       "    </tr>\n",
       "  </thead>\n",
       "  <tbody>\n",
       "    <tr>\n",
       "      <th>1483</th>\n",
       "      <td>2020-01-23</td>\n",
       "      <td>0.30308</td>\n",
       "      <td>0.55625</td>\n",
       "      <td>3.18035</td>\n",
       "      <td>100.00000</td>\n",
       "    </tr>\n",
       "    <tr>\n",
       "      <th>1484</th>\n",
       "      <td>2020-01-24</td>\n",
       "      <td>0.34689</td>\n",
       "      <td>0.40226</td>\n",
       "      <td>2.48156</td>\n",
       "      <td>86.11541</td>\n",
       "    </tr>\n",
       "    <tr>\n",
       "      <th>1513</th>\n",
       "      <td>2020-02-22</td>\n",
       "      <td>1.91594</td>\n",
       "      <td>0.19472</td>\n",
       "      <td>1.27032</td>\n",
       "      <td>85.23907</td>\n",
       "    </tr>\n",
       "    <tr>\n",
       "      <th>1514</th>\n",
       "      <td>2020-02-23</td>\n",
       "      <td>1.94203</td>\n",
       "      <td>0.19326</td>\n",
       "      <td>1.15841</td>\n",
       "      <td>82.90014</td>\n",
       "    </tr>\n",
       "    <tr>\n",
       "      <th>1516</th>\n",
       "      <td>2020-02-25</td>\n",
       "      <td>1.67058</td>\n",
       "      <td>0.20181</td>\n",
       "      <td>1.02206</td>\n",
       "      <td>79.95441</td>\n",
       "    </tr>\n",
       "    <tr>\n",
       "      <th>...</th>\n",
       "      <td>...</td>\n",
       "      <td>...</td>\n",
       "      <td>...</td>\n",
       "      <td>...</td>\n",
       "      <td>...</td>\n",
       "    </tr>\n",
       "    <tr>\n",
       "      <th>1063</th>\n",
       "      <td>2018-11-29</td>\n",
       "      <td>0.18199</td>\n",
       "      <td>0.53452</td>\n",
       "      <td>0.25599</td>\n",
       "      <td>0.02799</td>\n",
       "    </tr>\n",
       "    <tr>\n",
       "      <th>1068</th>\n",
       "      <td>2018-12-04</td>\n",
       "      <td>0.18590</td>\n",
       "      <td>0.83442</td>\n",
       "      <td>0.29562</td>\n",
       "      <td>0.02799</td>\n",
       "    </tr>\n",
       "    <tr>\n",
       "      <th>985</th>\n",
       "      <td>2018-09-12</td>\n",
       "      <td>0.14972</td>\n",
       "      <td>0.12045</td>\n",
       "      <td>0.14326</td>\n",
       "      <td>0.02763</td>\n",
       "    </tr>\n",
       "    <tr>\n",
       "      <th>1028</th>\n",
       "      <td>2018-10-25</td>\n",
       "      <td>0.13626</td>\n",
       "      <td>0.18208</td>\n",
       "      <td>0.18353</td>\n",
       "      <td>0.02727</td>\n",
       "    </tr>\n",
       "    <tr>\n",
       "      <th>1085</th>\n",
       "      <td>2018-12-21</td>\n",
       "      <td>0.18517</td>\n",
       "      <td>1.63995</td>\n",
       "      <td>0.27181</td>\n",
       "      <td>0.02709</td>\n",
       "    </tr>\n",
       "  </tbody>\n",
       "</table>\n",
       "<p>200 rows × 5 columns</p>\n",
       "</div>"
      ],
      "text/plain": [
       "            date     cold      flu  pneumonia  coronavirus\n",
       "1483  2020-01-23  0.30308  0.55625    3.18035    100.00000\n",
       "1484  2020-01-24  0.34689  0.40226    2.48156     86.11541\n",
       "1513  2020-02-22  1.91594  0.19472    1.27032     85.23907\n",
       "1514  2020-02-23  1.94203  0.19326    1.15841     82.90014\n",
       "1516  2020-02-25  1.67058  0.20181    1.02206     79.95441\n",
       "...          ...      ...      ...        ...          ...\n",
       "1063  2018-11-29  0.18199  0.53452    0.25599      0.02799\n",
       "1068  2018-12-04  0.18590  0.83442    0.29562      0.02799\n",
       "985   2018-09-12  0.14972  0.12045    0.14326      0.02763\n",
       "1028  2018-10-25  0.13626  0.18208    0.18353      0.02727\n",
       "1085  2018-12-21  0.18517  1.63995    0.27181      0.02709\n",
       "\n",
       "[200 rows x 5 columns]"
      ]
     },
     "execution_count": 15,
     "metadata": {},
     "output_type": "execute_result"
    }
   ],
   "source": [
    "#정렬-코로나바이러스\n",
    "tr_sort = tr.sort_values(by=['coronavirus'], ascending=False)\n",
    "tr_sort.head(200)\n"
   ]
  },
  {
   "cell_type": "code",
   "execution_count": 16,
   "id": "relevant-denmark",
   "metadata": {},
   "outputs": [
    {
     "name": "stdout",
     "output_type": "stream",
     "text": [
      "검색할 질병: 1.cold 2.flu 3.pneumonia :cold\n"
     ]
    },
    {
     "data": {
      "text/html": [
       "<div>\n",
       "<style scoped>\n",
       "    .dataframe tbody tr th:only-of-type {\n",
       "        vertical-align: middle;\n",
       "    }\n",
       "\n",
       "    .dataframe tbody tr th {\n",
       "        vertical-align: top;\n",
       "    }\n",
       "\n",
       "    .dataframe thead th {\n",
       "        text-align: right;\n",
       "    }\n",
       "</style>\n",
       "<table border=\"1\" class=\"dataframe\">\n",
       "  <thead>\n",
       "    <tr style=\"text-align: right;\">\n",
       "      <th></th>\n",
       "      <th>date</th>\n",
       "      <th>cold</th>\n",
       "      <th>flu</th>\n",
       "      <th>pneumonia</th>\n",
       "      <th>coronavirus</th>\n",
       "    </tr>\n",
       "  </thead>\n",
       "  <tbody>\n",
       "    <tr>\n",
       "      <th>1165</th>\n",
       "      <td>2019-03-11</td>\n",
       "      <td>15.72071</td>\n",
       "      <td>0.15381</td>\n",
       "      <td>0.16272</td>\n",
       "      <td>0.00836</td>\n",
       "    </tr>\n",
       "    <tr>\n",
       "      <th>1535</th>\n",
       "      <td>2020-03-15</td>\n",
       "      <td>5.02730</td>\n",
       "      <td>0.06754</td>\n",
       "      <td>0.16644</td>\n",
       "      <td>14.92164</td>\n",
       "    </tr>\n",
       "    <tr>\n",
       "      <th>1164</th>\n",
       "      <td>2019-03-10</td>\n",
       "      <td>3.33989</td>\n",
       "      <td>0.08545</td>\n",
       "      <td>0.12208</td>\n",
       "      <td>0.00627</td>\n",
       "    </tr>\n",
       "    <tr>\n",
       "      <th>729</th>\n",
       "      <td>2017-12-30</td>\n",
       "      <td>2.72528</td>\n",
       "      <td>1.08851</td>\n",
       "      <td>0.17117</td>\n",
       "      <td>0.01345</td>\n",
       "    </tr>\n",
       "    <tr>\n",
       "      <th>1011</th>\n",
       "      <td>2018-10-08</td>\n",
       "      <td>2.68582</td>\n",
       "      <td>0.25617</td>\n",
       "      <td>0.17090</td>\n",
       "      <td>0.00772</td>\n",
       "    </tr>\n",
       "    <tr>\n",
       "      <th>...</th>\n",
       "      <td>...</td>\n",
       "      <td>...</td>\n",
       "      <td>...</td>\n",
       "      <td>...</td>\n",
       "      <td>...</td>\n",
       "    </tr>\n",
       "    <tr>\n",
       "      <th>1557</th>\n",
       "      <td>2020-04-06</td>\n",
       "      <td>0.20717</td>\n",
       "      <td>0.05763</td>\n",
       "      <td>0.14026</td>\n",
       "      <td>10.90885</td>\n",
       "    </tr>\n",
       "    <tr>\n",
       "      <th>710</th>\n",
       "      <td>2017-12-11</td>\n",
       "      <td>0.20708</td>\n",
       "      <td>0.48853</td>\n",
       "      <td>0.19572</td>\n",
       "      <td>0.01272</td>\n",
       "    </tr>\n",
       "    <tr>\n",
       "      <th>364</th>\n",
       "      <td>2016-12-30</td>\n",
       "      <td>0.20690</td>\n",
       "      <td>1.16187</td>\n",
       "      <td>0.21908</td>\n",
       "      <td>0.01899</td>\n",
       "    </tr>\n",
       "    <tr>\n",
       "      <th>844</th>\n",
       "      <td>2018-04-24</td>\n",
       "      <td>0.20672</td>\n",
       "      <td>0.07981</td>\n",
       "      <td>0.20490</td>\n",
       "      <td>0.01036</td>\n",
       "    </tr>\n",
       "    <tr>\n",
       "      <th>262</th>\n",
       "      <td>2016-09-19</td>\n",
       "      <td>0.20544</td>\n",
       "      <td>0.09354</td>\n",
       "      <td>0.25190</td>\n",
       "      <td>0.01090</td>\n",
       "    </tr>\n",
       "  </tbody>\n",
       "</table>\n",
       "<p>200 rows × 5 columns</p>\n",
       "</div>"
      ],
      "text/plain": [
       "            date      cold      flu  pneumonia  coronavirus\n",
       "1165  2019-03-11  15.72071  0.15381    0.16272      0.00836\n",
       "1535  2020-03-15   5.02730  0.06754    0.16644     14.92164\n",
       "1164  2019-03-10   3.33989  0.08545    0.12208      0.00627\n",
       "729   2017-12-30   2.72528  1.08851    0.17117      0.01345\n",
       "1011  2018-10-08   2.68582  0.25617    0.17090      0.00772\n",
       "...          ...       ...      ...        ...          ...\n",
       "1557  2020-04-06   0.20717  0.05763    0.14026     10.90885\n",
       "710   2017-12-11   0.20708  0.48853    0.19572      0.01272\n",
       "364   2016-12-30   0.20690  1.16187    0.21908      0.01899\n",
       "844   2018-04-24   0.20672  0.07981    0.20490      0.01036\n",
       "262   2016-09-19   0.20544  0.09354    0.25190      0.01090\n",
       "\n",
       "[200 rows x 5 columns]"
      ]
     },
     "execution_count": 16,
     "metadata": {},
     "output_type": "execute_result"
    }
   ],
   "source": [
    "name=input('검색할 질병: 1.cold 2.flu 3.pneumonia :')\n",
    "\n",
    "tr_sort2 = tr.sort_values(by=[name], ascending=False)\n",
    "tr_sort2.head(200)"
   ]
  },
  {
   "cell_type": "code",
   "execution_count": null,
   "id": "special-penalty",
   "metadata": {},
   "outputs": [],
   "source": [
    "tr2=tr_sort.head(200)"
   ]
  },
  {
   "cell_type": "code",
   "execution_count": null,
   "id": "boolean-domain",
   "metadata": {},
   "outputs": [],
   "source": [
    "\n",
    "tr_graph=tr2.plot(kind='bar')\n"
   ]
  },
  {
   "cell_type": "code",
   "execution_count": 35,
   "id": "honest-healing",
   "metadata": {},
   "outputs": [
    {
     "name": "stdout",
     "output_type": "stream",
     "text": [
      "검색할 질병: 1.cold 2.flu 3.pneumonia 4.coronavirus :coronavirus\n"
     ]
    },
    {
     "data": {
      "image/png": "[encoded data removed]",
      "text/plain": [
       "<Figure size 1440x720 with 1 Axes>"
      ]
     },
     "metadata": {
      "needs_background": "light"
     },
     "output_type": "display_data"
    }
   ],
   "source": [
    "name=input('검색할 질병: 1.cold 2.flu 3.pneumonia 4.coronavirus :')\n",
    "\n",
    "plt.rcParams['figure.figsize'] = [20, 10] \n",
    "graph=tr.plot(x='date', y=name, title=name)\n"
   ]
  },
  {
   "cell_type": "markdown",
   "id": "nervous-christianity",
   "metadata": {},
   "source": [
    "# 서울시 공공데이터 포털-스타벅스 데이터 가공"
   ]
  },
  {
   "cell_type": "code",
   "execution_count": 68,
   "id": "fifty-alloy",
   "metadata": {
    "scrolled": true
   },
   "outputs": [],
   "source": [
    "# starbucks= pd.read_csv('../data/starbucks.csv', delimiter=',' ,sep=r', ') "
   ]
  },
  {
   "cell_type": "code",
   "execution_count": 99,
   "id": "champion-blake",
   "metadata": {},
   "outputs": [
    {
     "ename": "UnicodeDecodeError",
     "evalue": "'utf-8' codec can't decode byte 0xc1 in position 0: invalid start byte",
     "output_type": "error",
     "traceback": [
      "\u001b[0;31m---------------------------------------------------------------------------\u001b[0m",
      "\u001b[0;31mUnicodeDecodeError\u001b[0m                        Traceback (most recent call last)",
      "\u001b[0;32m<ipython-input-99-dc0b81a75e5e>\u001b[0m in \u001b[0;36m<module>\u001b[0;34m\u001b[0m\n\u001b[1;32m      1\u001b[0m \u001b[0mfile\u001b[0m \u001b[0;34m=\u001b[0m \u001b[0;34m'../data/starbucks.csv'\u001b[0m\u001b[0;34m\u001b[0m\u001b[0;34m\u001b[0m\u001b[0m\n\u001b[0;32m----> 2\u001b[0;31m \u001b[0moscar_demographics\u001b[0m \u001b[0;34m=\u001b[0m \u001b[0mpd\u001b[0m\u001b[0;34m.\u001b[0m\u001b[0mread_csv\u001b[0m\u001b[0;34m(\u001b[0m\u001b[0mfile\u001b[0m\u001b[0;34m)\u001b[0m\u001b[0;34m\u001b[0m\u001b[0;34m\u001b[0m\u001b[0m\n\u001b[0m",
      "\u001b[0;32m/opt/conda/lib/python3.7/site-packages/pandas/io/parsers.py\u001b[0m in \u001b[0;36mread_csv\u001b[0;34m(filepath_or_buffer, sep, delimiter, header, names, index_col, usecols, squeeze, prefix, mangle_dupe_cols, dtype, engine, converters, true_values, false_values, skipinitialspace, skiprows, skipfooter, nrows, na_values, keep_default_na, na_filter, verbose, skip_blank_lines, parse_dates, infer_datetime_format, keep_date_col, date_parser, dayfirst, cache_dates, iterator, chunksize, compression, thousands, decimal, lineterminator, quotechar, quoting, doublequote, escapechar, comment, encoding, dialect, error_bad_lines, warn_bad_lines, delim_whitespace, low_memory, memory_map, float_precision, storage_options)\u001b[0m\n\u001b[1;32m    603\u001b[0m     \u001b[0mkwds\u001b[0m\u001b[0;34m.\u001b[0m\u001b[0mupdate\u001b[0m\u001b[0;34m(\u001b[0m\u001b[0mkwds_defaults\u001b[0m\u001b[0;34m)\u001b[0m\u001b[0;34m\u001b[0m\u001b[0;34m\u001b[0m\u001b[0m\n\u001b[1;32m    604\u001b[0m \u001b[0;34m\u001b[0m\u001b[0m\n\u001b[0;32m--> 605\u001b[0;31m     \u001b[0;32mreturn\u001b[0m \u001b[0m_read\u001b[0m\u001b[0;34m(\u001b[0m\u001b[0mfilepath_or_buffer\u001b[0m\u001b[0;34m,\u001b[0m \u001b[0mkwds\u001b[0m\u001b[0;34m)\u001b[0m\u001b[0;34m\u001b[0m\u001b[0;34m\u001b[0m\u001b[0m\n\u001b[0m\u001b[1;32m    606\u001b[0m \u001b[0;34m\u001b[0m\u001b[0m\n\u001b[1;32m    607\u001b[0m \u001b[0;34m\u001b[0m\u001b[0m\n",
      "\u001b[0;32m/opt/conda/lib/python3.7/site-packages/pandas/io/parsers.py\u001b[0m in \u001b[0;36m_read\u001b[0;34m(filepath_or_buffer, kwds)\u001b[0m\n\u001b[1;32m    455\u001b[0m \u001b[0;34m\u001b[0m\u001b[0m\n\u001b[1;32m    456\u001b[0m     \u001b[0;31m# Create the parser.\u001b[0m\u001b[0;34m\u001b[0m\u001b[0;34m\u001b[0m\u001b[0;34m\u001b[0m\u001b[0m\n\u001b[0;32m--> 457\u001b[0;31m     \u001b[0mparser\u001b[0m \u001b[0;34m=\u001b[0m \u001b[0mTextFileReader\u001b[0m\u001b[0;34m(\u001b[0m\u001b[0mfilepath_or_buffer\u001b[0m\u001b[0;34m,\u001b[0m \u001b[0;34m**\u001b[0m\u001b[0mkwds\u001b[0m\u001b[0;34m)\u001b[0m\u001b[0;34m\u001b[0m\u001b[0;34m\u001b[0m\u001b[0m\n\u001b[0m\u001b[1;32m    458\u001b[0m \u001b[0;34m\u001b[0m\u001b[0m\n\u001b[1;32m    459\u001b[0m     \u001b[0;32mif\u001b[0m \u001b[0mchunksize\u001b[0m \u001b[0;32mor\u001b[0m \u001b[0miterator\u001b[0m\u001b[0;34m:\u001b[0m\u001b[0;34m\u001b[0m\u001b[0;34m\u001b[0m\u001b[0m\n",
      "\u001b[0;32m/opt/conda/lib/python3.7/site-packages/pandas/io/parsers.py\u001b[0m in \u001b[0;36m__init__\u001b[0;34m(self, f, engine, **kwds)\u001b[0m\n\u001b[1;32m    812\u001b[0m             \u001b[0mself\u001b[0m\u001b[0;34m.\u001b[0m\u001b[0moptions\u001b[0m\u001b[0;34m[\u001b[0m\u001b[0;34m\"has_index_names\"\u001b[0m\u001b[0;34m]\u001b[0m \u001b[0;34m=\u001b[0m \u001b[0mkwds\u001b[0m\u001b[0;34m[\u001b[0m\u001b[0;34m\"has_index_names\"\u001b[0m\u001b[0;34m]\u001b[0m\u001b[0;34m\u001b[0m\u001b[0;34m\u001b[0m\u001b[0m\n\u001b[1;32m    813\u001b[0m \u001b[0;34m\u001b[0m\u001b[0m\n\u001b[0;32m--> 814\u001b[0;31m         \u001b[0mself\u001b[0m\u001b[0;34m.\u001b[0m\u001b[0m_engine\u001b[0m \u001b[0;34m=\u001b[0m \u001b[0mself\u001b[0m\u001b[0;34m.\u001b[0m\u001b[0m_make_engine\u001b[0m\u001b[0;34m(\u001b[0m\u001b[0mself\u001b[0m\u001b[0;34m.\u001b[0m\u001b[0mengine\u001b[0m\u001b[0;34m)\u001b[0m\u001b[0;34m\u001b[0m\u001b[0;34m\u001b[0m\u001b[0m\n\u001b[0m\u001b[1;32m    815\u001b[0m \u001b[0;34m\u001b[0m\u001b[0m\n\u001b[1;32m    816\u001b[0m     \u001b[0;32mdef\u001b[0m \u001b[0mclose\u001b[0m\u001b[0;34m(\u001b[0m\u001b[0mself\u001b[0m\u001b[0;34m)\u001b[0m\u001b[0;34m:\u001b[0m\u001b[0;34m\u001b[0m\u001b[0;34m\u001b[0m\u001b[0m\n",
      "\u001b[0;32m/opt/conda/lib/python3.7/site-packages/pandas/io/parsers.py\u001b[0m in \u001b[0;36m_make_engine\u001b[0;34m(self, engine)\u001b[0m\n\u001b[1;32m   1043\u001b[0m             )\n\u001b[1;32m   1044\u001b[0m         \u001b[0;31m# error: Too many arguments for \"ParserBase\"\u001b[0m\u001b[0;34m\u001b[0m\u001b[0;34m\u001b[0m\u001b[0;34m\u001b[0m\u001b[0m\n\u001b[0;32m-> 1045\u001b[0;31m         \u001b[0;32mreturn\u001b[0m \u001b[0mmapping\u001b[0m\u001b[0;34m[\u001b[0m\u001b[0mengine\u001b[0m\u001b[0;34m]\u001b[0m\u001b[0;34m(\u001b[0m\u001b[0mself\u001b[0m\u001b[0;34m.\u001b[0m\u001b[0mf\u001b[0m\u001b[0;34m,\u001b[0m \u001b[0;34m**\u001b[0m\u001b[0mself\u001b[0m\u001b[0;34m.\u001b[0m\u001b[0moptions\u001b[0m\u001b[0;34m)\u001b[0m  \u001b[0;31m# type: ignore[call-arg]\u001b[0m\u001b[0;34m\u001b[0m\u001b[0;34m\u001b[0m\u001b[0m\n\u001b[0m\u001b[1;32m   1046\u001b[0m \u001b[0;34m\u001b[0m\u001b[0m\n\u001b[1;32m   1047\u001b[0m     \u001b[0;32mdef\u001b[0m \u001b[0m_failover_to_python\u001b[0m\u001b[0;34m(\u001b[0m\u001b[0mself\u001b[0m\u001b[0;34m)\u001b[0m\u001b[0;34m:\u001b[0m\u001b[0;34m\u001b[0m\u001b[0;34m\u001b[0m\u001b[0m\n",
      "\u001b[0;32m/opt/conda/lib/python3.7/site-packages/pandas/io/parsers.py\u001b[0m in \u001b[0;36m__init__\u001b[0;34m(self, src, **kwds)\u001b[0m\n\u001b[1;32m   1891\u001b[0m \u001b[0;34m\u001b[0m\u001b[0m\n\u001b[1;32m   1892\u001b[0m         \u001b[0;32mtry\u001b[0m\u001b[0;34m:\u001b[0m\u001b[0;34m\u001b[0m\u001b[0;34m\u001b[0m\u001b[0m\n\u001b[0;32m-> 1893\u001b[0;31m             \u001b[0mself\u001b[0m\u001b[0;34m.\u001b[0m\u001b[0m_reader\u001b[0m \u001b[0;34m=\u001b[0m \u001b[0mparsers\u001b[0m\u001b[0;34m.\u001b[0m\u001b[0mTextReader\u001b[0m\u001b[0;34m(\u001b[0m\u001b[0mself\u001b[0m\u001b[0;34m.\u001b[0m\u001b[0mhandles\u001b[0m\u001b[0;34m.\u001b[0m\u001b[0mhandle\u001b[0m\u001b[0;34m,\u001b[0m \u001b[0;34m**\u001b[0m\u001b[0mkwds\u001b[0m\u001b[0;34m)\u001b[0m\u001b[0;34m\u001b[0m\u001b[0;34m\u001b[0m\u001b[0m\n\u001b[0m\u001b[1;32m   1894\u001b[0m         \u001b[0;32mexcept\u001b[0m \u001b[0mException\u001b[0m\u001b[0;34m:\u001b[0m\u001b[0;34m\u001b[0m\u001b[0;34m\u001b[0m\u001b[0m\n\u001b[1;32m   1895\u001b[0m             \u001b[0mself\u001b[0m\u001b[0;34m.\u001b[0m\u001b[0mhandles\u001b[0m\u001b[0;34m.\u001b[0m\u001b[0mclose\u001b[0m\u001b[0;34m(\u001b[0m\u001b[0;34m)\u001b[0m\u001b[0;34m\u001b[0m\u001b[0;34m\u001b[0m\u001b[0m\n",
      "\u001b[0;32mpandas/_libs/parsers.pyx\u001b[0m in \u001b[0;36mpandas._libs.parsers.TextReader.__cinit__\u001b[0;34m()\u001b[0m\n",
      "\u001b[0;32mpandas/_libs/parsers.pyx\u001b[0m in \u001b[0;36mpandas._libs.parsers.TextReader._get_header\u001b[0;34m()\u001b[0m\n",
      "\u001b[0;32mpandas/_libs/parsers.pyx\u001b[0m in \u001b[0;36mpandas._libs.parsers.TextReader._tokenize_rows\u001b[0;34m()\u001b[0m\n",
      "\u001b[0;32mpandas/_libs/parsers.pyx\u001b[0m in \u001b[0;36mpandas._libs.parsers.raise_parser_error\u001b[0;34m()\u001b[0m\n",
      "\u001b[0;31mUnicodeDecodeError\u001b[0m: 'utf-8' codec can't decode byte 0xc1 in position 0: invalid start byte"
     ]
    }
   ],
   "source": [
    "#파일 에러\n",
    "file = '../data/starbucks.csv'        \n",
    "oscar_demographics = pd.read_csv(file)"
   ]
  },
  {
   "cell_type": "code",
   "execution_count": 100,
   "id": "centered-queensland",
   "metadata": {},
   "outputs": [
    {
     "data": {
      "text/plain": [
       "{'encoding': 'EUC-KR', 'confidence': 0.99, 'language': 'Korean'}"
      ]
     },
     "execution_count": 100,
     "metadata": {},
     "output_type": "execute_result"
    }
   ],
   "source": [
    "#\n",
    "import chardet\n",
    "with open(file, 'rb') as rawdata:\n",
    "    result = chardet.detect(rawdata.read(100000))\n",
    "result"
   ]
  },
  {
   "cell_type": "markdown",
   "id": "realistic-palestine",
   "metadata": {},
   "source": [
    "스타벅스 데이터 불러오기"
   ]
  },
  {
   "cell_type": "code",
   "execution_count": 81,
   "id": "brazilian-board",
   "metadata": {
    "scrolled": true
   },
   "outputs": [
    {
     "data": {
      "text/html": [
       "<div>\n",
       "<style scoped>\n",
       "    .dataframe tbody tr th:only-of-type {\n",
       "        vertical-align: middle;\n",
       "    }\n",
       "\n",
       "    .dataframe tbody tr th {\n",
       "        vertical-align: top;\n",
       "    }\n",
       "\n",
       "    .dataframe thead th {\n",
       "        text-align: right;\n",
       "    }\n",
       "</style>\n",
       "<table border=\"1\" class=\"dataframe\">\n",
       "  <thead>\n",
       "    <tr style=\"text-align: right;\">\n",
       "      <th></th>\n",
       "      <th>지점명</th>\n",
       "      <th>주소</th>\n",
       "      <th>위도</th>\n",
       "      <th>경도</th>\n",
       "    </tr>\n",
       "  </thead>\n",
       "  <tbody>\n",
       "    <tr>\n",
       "      <th>0</th>\n",
       "      <td>구로호텔</td>\n",
       "      <td>서울특별시 구로구 디지털로32길 72, 구로호텔 1층 (구로동)</td>\n",
       "      <td>37.483129</td>\n",
       "      <td>126.898859</td>\n",
       "    </tr>\n",
       "    <tr>\n",
       "      <th>1</th>\n",
       "      <td>구로디지털타워</td>\n",
       "      <td>서울특별시 구로구 디지털로32길 30 (구로동)</td>\n",
       "      <td>37.483432</td>\n",
       "      <td>126.896480</td>\n",
       "    </tr>\n",
       "    <tr>\n",
       "      <th>2</th>\n",
       "      <td>구로디지털로</td>\n",
       "      <td>서울특별시 구로구 디지털로33길 11, 에이스테크노8차 1층 (구로동)</td>\n",
       "      <td>37.485911</td>\n",
       "      <td>126.895587</td>\n",
       "    </tr>\n",
       "    <tr>\n",
       "      <th>3</th>\n",
       "      <td>구로에이스</td>\n",
       "      <td>서울특별시 구로구 디지털로 285, 에이스트윈타워1차 103호 (구로동)</td>\n",
       "      <td>37.484483</td>\n",
       "      <td>126.894496</td>\n",
       "    </tr>\n",
       "    <tr>\n",
       "      <th>4</th>\n",
       "      <td>구로하이엔드</td>\n",
       "      <td>서울특별시 구로구 디지털로26길 5, 에이스하이엔드타워1차 103호 (구로동)</td>\n",
       "      <td>37.481618</td>\n",
       "      <td>126.893136</td>\n",
       "    </tr>\n",
       "    <tr>\n",
       "      <th>...</th>\n",
       "      <td>...</td>\n",
       "      <td>...</td>\n",
       "      <td>...</td>\n",
       "      <td>...</td>\n",
       "    </tr>\n",
       "    <tr>\n",
       "      <th>95</th>\n",
       "      <td>발산역사거리</td>\n",
       "      <td>서울특별시 강서구 공항대로 248 (마곡동)</td>\n",
       "      <td>37.558509</td>\n",
       "      <td>126.835096</td>\n",
       "    </tr>\n",
       "    <tr>\n",
       "      <th>96</th>\n",
       "      <td>마곡역</td>\n",
       "      <td>서울특별시 강서구 공항대로 168 (마곡동)</td>\n",
       "      <td>37.559611</td>\n",
       "      <td>126.826298</td>\n",
       "    </tr>\n",
       "    <tr>\n",
       "      <th>97</th>\n",
       "      <td>우장산역</td>\n",
       "      <td>서울특별시 강서구 강서로 267 (내발산동)</td>\n",
       "      <td>37.549501</td>\n",
       "      <td>126.835984</td>\n",
       "    </tr>\n",
       "    <tr>\n",
       "      <th>98</th>\n",
       "      <td>마곡사이언스타워R</td>\n",
       "      <td>서울특별시 강서구 마곡동로 62 (마곡동)</td>\n",
       "      <td>37.560526</td>\n",
       "      <td>126.833887</td>\n",
       "    </tr>\n",
       "    <tr>\n",
       "      <th>99</th>\n",
       "      <td>방화DT</td>\n",
       "      <td>서울특별시 강서구 방화대로 375 (방화동)</td>\n",
       "      <td>37.574339</td>\n",
       "      <td>126.816415</td>\n",
       "    </tr>\n",
       "  </tbody>\n",
       "</table>\n",
       "<p>100 rows × 4 columns</p>\n",
       "</div>"
      ],
      "text/plain": [
       "          지점명                                           주소         위도  \\\n",
       "0        구로호텔          서울특별시 구로구 디지털로32길 72, 구로호텔 1층 (구로동)  37.483129   \n",
       "1     구로디지털타워                   서울특별시 구로구 디지털로32길 30 (구로동)  37.483432   \n",
       "2      구로디지털로      서울특별시 구로구 디지털로33길 11, 에이스테크노8차 1층 (구로동)  37.485911   \n",
       "3       구로에이스     서울특별시 구로구 디지털로 285, 에이스트윈타워1차 103호 (구로동)  37.484483   \n",
       "4      구로하이엔드  서울특별시 구로구 디지털로26길 5, 에이스하이엔드타워1차 103호 (구로동)  37.481618   \n",
       "..        ...                                          ...        ...   \n",
       "95     발산역사거리                     서울특별시 강서구 공항대로 248 (마곡동)  37.558509   \n",
       "96        마곡역                     서울특별시 강서구 공항대로 168 (마곡동)  37.559611   \n",
       "97       우장산역                     서울특별시 강서구 강서로 267 (내발산동)  37.549501   \n",
       "98  마곡사이언스타워R                      서울특별시 강서구 마곡동로 62 (마곡동)  37.560526   \n",
       "99       방화DT                     서울특별시 강서구 방화대로 375 (방화동)  37.574339   \n",
       "\n",
       "            경도  \n",
       "0   126.898859  \n",
       "1   126.896480  \n",
       "2   126.895587  \n",
       "3   126.894496  \n",
       "4   126.893136  \n",
       "..         ...  \n",
       "95  126.835096  \n",
       "96  126.826298  \n",
       "97  126.835984  \n",
       "98  126.833887  \n",
       "99  126.816415  \n",
       "\n",
       "[100 rows x 4 columns]"
      ]
     },
     "execution_count": 81,
     "metadata": {},
     "output_type": "execute_result"
    }
   ],
   "source": [
    "starbucks = pd.read_csv(file,encoding='EUC-KR')\n",
    "starbucks.head(100)"
   ]
  },
  {
   "cell_type": "code",
   "execution_count": 83,
   "id": "therapeutic-jordan",
   "metadata": {},
   "outputs": [],
   "source": [
    "starbucks=starbucks.rename({'주소':'address'},axis=1)\n",
    "starbucks=starbucks.rename({'위도':'latitude'},axis=1)\n",
    "starbucks=starbucks.rename({'경도':'longitude'},axis=1)"
   ]
  },
  {
   "cell_type": "code",
   "execution_count": 84,
   "id": "unknown-candle",
   "metadata": {
    "scrolled": true
   },
   "outputs": [
    {
     "data": {
      "text/html": [
       "<div>\n",
       "<style scoped>\n",
       "    .dataframe tbody tr th:only-of-type {\n",
       "        vertical-align: middle;\n",
       "    }\n",
       "\n",
       "    .dataframe tbody tr th {\n",
       "        vertical-align: top;\n",
       "    }\n",
       "\n",
       "    .dataframe thead th {\n",
       "        text-align: right;\n",
       "    }\n",
       "</style>\n",
       "<table border=\"1\" class=\"dataframe\">\n",
       "  <thead>\n",
       "    <tr style=\"text-align: right;\">\n",
       "      <th></th>\n",
       "      <th>지점명</th>\n",
       "      <th>address</th>\n",
       "      <th>latitude</th>\n",
       "      <th>longitude</th>\n",
       "    </tr>\n",
       "  </thead>\n",
       "  <tbody>\n",
       "    <tr>\n",
       "      <th>0</th>\n",
       "      <td>구로호텔</td>\n",
       "      <td>서울특별시 구로구 디지털로32길 72, 구로호텔 1층 (구로동)</td>\n",
       "      <td>37.483129</td>\n",
       "      <td>126.898859</td>\n",
       "    </tr>\n",
       "    <tr>\n",
       "      <th>1</th>\n",
       "      <td>구로디지털타워</td>\n",
       "      <td>서울특별시 구로구 디지털로32길 30 (구로동)</td>\n",
       "      <td>37.483432</td>\n",
       "      <td>126.896480</td>\n",
       "    </tr>\n",
       "    <tr>\n",
       "      <th>2</th>\n",
       "      <td>구로디지털로</td>\n",
       "      <td>서울특별시 구로구 디지털로33길 11, 에이스테크노8차 1층 (구로동)</td>\n",
       "      <td>37.485911</td>\n",
       "      <td>126.895587</td>\n",
       "    </tr>\n",
       "    <tr>\n",
       "      <th>3</th>\n",
       "      <td>구로에이스</td>\n",
       "      <td>서울특별시 구로구 디지털로 285, 에이스트윈타워1차 103호 (구로동)</td>\n",
       "      <td>37.484483</td>\n",
       "      <td>126.894496</td>\n",
       "    </tr>\n",
       "    <tr>\n",
       "      <th>4</th>\n",
       "      <td>구로하이엔드</td>\n",
       "      <td>서울특별시 구로구 디지털로26길 5, 에이스하이엔드타워1차 103호 (구로동)</td>\n",
       "      <td>37.481618</td>\n",
       "      <td>126.893136</td>\n",
       "    </tr>\n",
       "  </tbody>\n",
       "</table>\n",
       "</div>"
      ],
      "text/plain": [
       "       지점명                                      address   latitude   longitude\n",
       "0     구로호텔          서울특별시 구로구 디지털로32길 72, 구로호텔 1층 (구로동)  37.483129  126.898859\n",
       "1  구로디지털타워                   서울특별시 구로구 디지털로32길 30 (구로동)  37.483432  126.896480\n",
       "2   구로디지털로      서울특별시 구로구 디지털로33길 11, 에이스테크노8차 1층 (구로동)  37.485911  126.895587\n",
       "3    구로에이스     서울특별시 구로구 디지털로 285, 에이스트윈타워1차 103호 (구로동)  37.484483  126.894496\n",
       "4   구로하이엔드  서울특별시 구로구 디지털로26길 5, 에이스하이엔드타워1차 103호 (구로동)  37.481618  126.893136"
      ]
     },
     "execution_count": 84,
     "metadata": {},
     "output_type": "execute_result"
    }
   ],
   "source": [
    "starbucks.head()"
   ]
  },
  {
   "cell_type": "code",
   "execution_count": 112,
   "id": "juvenile-circle",
   "metadata": {},
   "outputs": [
    {
     "name": "stdout",
     "output_type": "stream",
     "text": [
      "구 이름 입력:강서구\n"
     ]
    },
    {
     "data": {
      "text/html": [
       "<div>\n",
       "<style scoped>\n",
       "    .dataframe tbody tr th:only-of-type {\n",
       "        vertical-align: middle;\n",
       "    }\n",
       "\n",
       "    .dataframe tbody tr th {\n",
       "        vertical-align: top;\n",
       "    }\n",
       "\n",
       "    .dataframe thead th {\n",
       "        text-align: right;\n",
       "    }\n",
       "</style>\n",
       "<table border=\"1\" class=\"dataframe\">\n",
       "  <thead>\n",
       "    <tr style=\"text-align: right;\">\n",
       "      <th></th>\n",
       "      <th>지점명</th>\n",
       "      <th>address</th>\n",
       "      <th>latitude</th>\n",
       "      <th>longitude</th>\n",
       "    </tr>\n",
       "  </thead>\n",
       "  <tbody>\n",
       "    <tr>\n",
       "      <th>95</th>\n",
       "      <td>발산역사거리</td>\n",
       "      <td>서울특별시 강서구 공항대로 248 (마곡동)</td>\n",
       "      <td>37.558509</td>\n",
       "      <td>126.835096</td>\n",
       "    </tr>\n",
       "    <tr>\n",
       "      <th>96</th>\n",
       "      <td>마곡역</td>\n",
       "      <td>서울특별시 강서구 공항대로 168 (마곡동)</td>\n",
       "      <td>37.559611</td>\n",
       "      <td>126.826298</td>\n",
       "    </tr>\n",
       "    <tr>\n",
       "      <th>97</th>\n",
       "      <td>우장산역</td>\n",
       "      <td>서울특별시 강서구 강서로 267 (내발산동)</td>\n",
       "      <td>37.549501</td>\n",
       "      <td>126.835984</td>\n",
       "    </tr>\n",
       "    <tr>\n",
       "      <th>98</th>\n",
       "      <td>마곡사이언스타워R</td>\n",
       "      <td>서울특별시 강서구 마곡동로 62 (마곡동)</td>\n",
       "      <td>37.560526</td>\n",
       "      <td>126.833887</td>\n",
       "    </tr>\n",
       "    <tr>\n",
       "      <th>99</th>\n",
       "      <td>방화DT</td>\n",
       "      <td>서울특별시 강서구 방화대로 375 (방화동)</td>\n",
       "      <td>37.574339</td>\n",
       "      <td>126.816415</td>\n",
       "    </tr>\n",
       "    <tr>\n",
       "      <th>100</th>\n",
       "      <td>마곡나루역</td>\n",
       "      <td>서울특별시 강서구 마곡중앙로 161-17 (마곡동)</td>\n",
       "      <td>37.568130</td>\n",
       "      <td>126.826140</td>\n",
       "    </tr>\n",
       "    <tr>\n",
       "      <th>101</th>\n",
       "      <td>마곡GMG</td>\n",
       "      <td>서울특별시 강서구 마곡중앙6로 16 (마곡동) 117,118,119,120호</td>\n",
       "      <td>37.560487</td>\n",
       "      <td>126.829667</td>\n",
       "    </tr>\n",
       "    <tr>\n",
       "      <th>102</th>\n",
       "      <td>가양역</td>\n",
       "      <td>서울특별시 강서구 양천로 476 (등촌동)</td>\n",
       "      <td>37.561640</td>\n",
       "      <td>126.853327</td>\n",
       "    </tr>\n",
       "    <tr>\n",
       "      <th>103</th>\n",
       "      <td>화곡DT</td>\n",
       "      <td>서울특별시 강서구 등촌로 57 (화곡동)</td>\n",
       "      <td>37.535149</td>\n",
       "      <td>126.863232</td>\n",
       "    </tr>\n",
       "    <tr>\n",
       "      <th>104</th>\n",
       "      <td>양천향교역</td>\n",
       "      <td>서울특별시 강서구 강서로 463 (마곡동)</td>\n",
       "      <td>37.566964</td>\n",
       "      <td>126.840731</td>\n",
       "    </tr>\n",
       "    <tr>\n",
       "      <th>105</th>\n",
       "      <td>화곡동</td>\n",
       "      <td>서울특별시 강서구 화곡로 142(화곡동)</td>\n",
       "      <td>37.540512</td>\n",
       "      <td>126.837241</td>\n",
       "    </tr>\n",
       "    <tr>\n",
       "      <th>106</th>\n",
       "      <td>등촌</td>\n",
       "      <td>서울특별시 강서구 공항대로 329 (등촌동)</td>\n",
       "      <td>37.558204</td>\n",
       "      <td>126.844339</td>\n",
       "    </tr>\n",
       "    <tr>\n",
       "      <th>107</th>\n",
       "      <td>염창역</td>\n",
       "      <td>서울특별시 강서구 공항대로 627 (염창동)</td>\n",
       "      <td>37.547359</td>\n",
       "      <td>126.874436</td>\n",
       "    </tr>\n",
       "    <tr>\n",
       "      <th>108</th>\n",
       "      <td>발산역</td>\n",
       "      <td>서울특별시 강서구 강서로 388 (등촌동) 그랜드마트</td>\n",
       "      <td>37.560330</td>\n",
       "      <td>126.839279</td>\n",
       "    </tr>\n",
       "    <tr>\n",
       "      <th>109</th>\n",
       "      <td>가양이마트</td>\n",
       "      <td>서울특별시 강서구 양천로 559, 가양이마트 1층 (가양동)</td>\n",
       "      <td>37.557897</td>\n",
       "      <td>126.862298</td>\n",
       "    </tr>\n",
       "    <tr>\n",
       "      <th>110</th>\n",
       "      <td>까치산역</td>\n",
       "      <td>서울특별시 강서구 강서로13길 3 (화곡동)</td>\n",
       "      <td>37.532303</td>\n",
       "      <td>126.846077</td>\n",
       "    </tr>\n",
       "    <tr>\n",
       "      <th>1066</th>\n",
       "      <td>스타필드명지</td>\n",
       "      <td>부산광역시 강서구 명지국제7로 133 3438 스타필드 명지 1층</td>\n",
       "      <td>35.093468</td>\n",
       "      <td>128.917432</td>\n",
       "    </tr>\n",
       "    <tr>\n",
       "      <th>1067</th>\n",
       "      <td>명지강변DT</td>\n",
       "      <td>부산광역시 강서구 르노삼성대로 620 (명지동)</td>\n",
       "      <td>35.102573</td>\n",
       "      <td>128.929460</td>\n",
       "    </tr>\n",
       "    <tr>\n",
       "      <th>1068</th>\n",
       "      <td>명지국제신도시</td>\n",
       "      <td>부산광역시 강서구 명지국제5로 42 (명지동)</td>\n",
       "      <td>35.097942</td>\n",
       "      <td>128.919918</td>\n",
       "    </tr>\n",
       "    <tr>\n",
       "      <th>1069</th>\n",
       "      <td>명지오션시티</td>\n",
       "      <td>부산광역시 강서구 명지오션시티11로 66 (명지동)</td>\n",
       "      <td>35.084043</td>\n",
       "      <td>128.903135</td>\n",
       "    </tr>\n",
       "  </tbody>\n",
       "</table>\n",
       "</div>"
      ],
      "text/plain": [
       "            지점명                                     address   latitude  \\\n",
       "95       발산역사거리                    서울특별시 강서구 공항대로 248 (마곡동)  37.558509   \n",
       "96          마곡역                    서울특별시 강서구 공항대로 168 (마곡동)  37.559611   \n",
       "97         우장산역                    서울특별시 강서구 강서로 267 (내발산동)  37.549501   \n",
       "98    마곡사이언스타워R                     서울특별시 강서구 마곡동로 62 (마곡동)  37.560526   \n",
       "99         방화DT                    서울특별시 강서구 방화대로 375 (방화동)  37.574339   \n",
       "100       마곡나루역                서울특별시 강서구 마곡중앙로 161-17 (마곡동)  37.568130   \n",
       "101       마곡GMG  서울특별시 강서구 마곡중앙6로 16 (마곡동) 117,118,119,120호  37.560487   \n",
       "102         가양역                     서울특별시 강서구 양천로 476 (등촌동)  37.561640   \n",
       "103        화곡DT                      서울특별시 강서구 등촌로 57 (화곡동)  37.535149   \n",
       "104       양천향교역                     서울특별시 강서구 강서로 463 (마곡동)  37.566964   \n",
       "105         화곡동                      서울특별시 강서구 화곡로 142(화곡동)  37.540512   \n",
       "106          등촌                    서울특별시 강서구 공항대로 329 (등촌동)  37.558204   \n",
       "107         염창역                    서울특별시 강서구 공항대로 627 (염창동)  37.547359   \n",
       "108         발산역               서울특별시 강서구 강서로 388 (등촌동) 그랜드마트  37.560330   \n",
       "109       가양이마트           서울특별시 강서구 양천로 559, 가양이마트 1층 (가양동)  37.557897   \n",
       "110        까치산역                    서울특별시 강서구 강서로13길 3 (화곡동)  37.532303   \n",
       "1066     스타필드명지        부산광역시 강서구 명지국제7로 133 3438 스타필드 명지 1층  35.093468   \n",
       "1067     명지강변DT                  부산광역시 강서구 르노삼성대로 620 (명지동)  35.102573   \n",
       "1068    명지국제신도시                   부산광역시 강서구 명지국제5로 42 (명지동)  35.097942   \n",
       "1069     명지오션시티                부산광역시 강서구 명지오션시티11로 66 (명지동)  35.084043   \n",
       "\n",
       "       longitude  \n",
       "95    126.835096  \n",
       "96    126.826298  \n",
       "97    126.835984  \n",
       "98    126.833887  \n",
       "99    126.816415  \n",
       "100   126.826140  \n",
       "101   126.829667  \n",
       "102   126.853327  \n",
       "103   126.863232  \n",
       "104   126.840731  \n",
       "105   126.837241  \n",
       "106   126.844339  \n",
       "107   126.874436  \n",
       "108   126.839279  \n",
       "109   126.862298  \n",
       "110   126.846077  \n",
       "1066  128.917432  \n",
       "1067  128.929460  \n",
       "1068  128.919918  \n",
       "1069  128.903135  "
      ]
     },
     "execution_count": 112,
     "metadata": {},
     "output_type": "execute_result"
    }
   ],
   "source": [
    "province=input('구 이름 입력:')\n",
    "# 강서구 강동구 강남구 성북구 중구 은평구 금천구 광진구 서대문구 중랑구 강북구 관악구 구로구 영등포구 마포구 종로구 도봉구\n",
    "starbucks[starbucks['address'].str.contains(province)]"
   ]
  },
  {
   "cell_type": "code",
   "execution_count": 128,
   "id": "objective-salvation",
   "metadata": {},
   "outputs": [
    {
     "data": {
      "text/plain": [
       "80"
      ]
     },
     "execution_count": 128,
     "metadata": {},
     "output_type": "execute_result"
    }
   ],
   "source": [
    "st_1=starbucks[starbucks['address'].str.contains(province)]\n",
    "st_1.shape[0]\n",
    "# st_1.count()"
   ]
  },
  {
   "cell_type": "code",
   "execution_count": 119,
   "id": "french-sympathy",
   "metadata": {},
   "outputs": [],
   "source": [
    "list_province =['강남구','강동구','강서구','강북구','관악구','광진구','구로구','금천구','노원구','동대문구','도봉구','동작구','마포구','서대문구','성동구','성북구','서초구','송파구','영등포구','용산구','양천구','은평구','종로구','중구','중랑구']"
   ]
  },
  {
   "cell_type": "code",
   "execution_count": null,
   "id": "limiting-stand",
   "metadata": {},
   "outputs": [],
   "source": [
    "list_province_eng =['강남구','강동구','강서구','강북구','관악구','광진구','구로구','금천구','노원구','동대문구','도봉구','동작구','마포구','서대문구','성동구','성북구','서초구','송파구','영등포구','용산구','양천구','은평구','종로구','중구','중랑구']"
   ]
  },
  {
   "cell_type": "code",
   "execution_count": 120,
   "id": "chubby-penguin",
   "metadata": {},
   "outputs": [],
   "source": [
    "list_num=[i for i in range(len(list_province))]"
   ]
  },
  {
   "cell_type": "code",
   "execution_count": 140,
   "id": "searching-benefit",
   "metadata": {},
   "outputs": [],
   "source": [
    "st_list=[0]*25"
   ]
  },
  {
   "cell_type": "code",
   "execution_count": 141,
   "id": "czech-competition",
   "metadata": {},
   "outputs": [
    {
     "data": {
      "text/plain": [
       "[0, 0, 0, 0, 0, 0, 0, 0, 0, 0, 0, 0, 0, 0, 0, 0, 0, 0, 0, 0, 0, 0, 0, 0, 0]"
      ]
     },
     "execution_count": 141,
     "metadata": {},
     "output_type": "execute_result"
    }
   ],
   "source": [
    "st_list"
   ]
  },
  {
   "cell_type": "code",
   "execution_count": 143,
   "id": "proof-iraqi",
   "metadata": {},
   "outputs": [],
   "source": [
    "\n",
    "for i in range(25):\n",
    "    province=list_province[i]\n",
    "    st_1=starbucks[starbucks['address'].str.contains(province)]\n",
    "    num=st_1.shape[0]\n",
    "    st_list[i]=num"
   ]
  },
  {
   "cell_type": "code",
   "execution_count": 136,
   "id": "covered-eleven",
   "metadata": {},
   "outputs": [
    {
     "data": {
      "text/plain": [
       "'강남구'"
      ]
     },
     "execution_count": 136,
     "metadata": {},
     "output_type": "execute_result"
    }
   ],
   "source": [
    "list_province[0]"
   ]
  },
  {
   "cell_type": "code",
   "execution_count": 144,
   "id": "incorrect-replica",
   "metadata": {},
   "outputs": [
    {
     "data": {
      "text/plain": [
       "[80,\n",
       " 14,\n",
       " 20,\n",
       " 5,\n",
       " 11,\n",
       " 15,\n",
       " 10,\n",
       " 10,\n",
       " 13,\n",
       " 8,\n",
       " 2,\n",
       " 11,\n",
       " 32,\n",
       " 18,\n",
       " 11,\n",
       " 13,\n",
       " 46,\n",
       " 30,\n",
       " 34,\n",
       " 19,\n",
       " 15,\n",
       " 8,\n",
       " 38,\n",
       " 86,\n",
       " 6]"
      ]
     },
     "execution_count": 144,
     "metadata": {},
     "output_type": "execute_result"
    }
   ],
   "source": [
    "st_list"
   ]
  },
  {
   "cell_type": "markdown",
   "id": "copyrighted-bidder",
   "metadata": {},
   "source": [
    "구별로 스타벅스 개수 딕셔너리로 만들기"
   ]
  },
  {
   "cell_type": "code",
   "execution_count": 145,
   "id": "determined-simon",
   "metadata": {},
   "outputs": [],
   "source": [
    "star_dict=dict(zip(list_province,st_list))"
   ]
  },
  {
   "cell_type": "code",
   "execution_count": 146,
   "id": "challenging-adobe",
   "metadata": {},
   "outputs": [
    {
     "data": {
      "text/plain": [
       "{'강남구': 80,\n",
       " '강동구': 14,\n",
       " '강서구': 20,\n",
       " '강북구': 5,\n",
       " '관악구': 11,\n",
       " '광진구': 15,\n",
       " '구로구': 10,\n",
       " '금천구': 10,\n",
       " '노원구': 13,\n",
       " '동대문구': 8,\n",
       " '도봉구': 2,\n",
       " '동작구': 11,\n",
       " '마포구': 32,\n",
       " '서대문구': 18,\n",
       " '성동구': 11,\n",
       " '성북구': 13,\n",
       " '서초구': 46,\n",
       " '송파구': 30,\n",
       " '영등포구': 34,\n",
       " '용산구': 19,\n",
       " '양천구': 15,\n",
       " '은평구': 8,\n",
       " '종로구': 38,\n",
       " '중구': 86,\n",
       " '중랑구': 6}"
      ]
     },
     "execution_count": 146,
     "metadata": {},
     "output_type": "execute_result"
    }
   ],
   "source": [
    "star_dict"
   ]
  },
  {
   "cell_type": "code",
   "execution_count": 151,
   "id": "applied-projector",
   "metadata": {},
   "outputs": [
    {
     "name": "stdout",
     "output_type": "stream",
     "text": [
      "      starbucks_num\n",
      "강남구              80\n",
      "강동구              14\n",
      "강서구              20\n",
      "강북구               5\n",
      "관악구              11\n",
      "광진구              15\n",
      "구로구              10\n",
      "금천구              10\n",
      "노원구              13\n",
      "동대문구              8\n",
      "도봉구               2\n",
      "동작구              11\n",
      "마포구              32\n",
      "서대문구             18\n",
      "성동구              11\n",
      "성북구              13\n",
      "서초구              46\n",
      "송파구              30\n",
      "영등포구             34\n",
      "용산구              19\n",
      "양천구              15\n",
      "은평구               8\n",
      "종로구              38\n",
      "중구               86\n",
      "중랑구               6\n"
     ]
    }
   ],
   "source": [
    "print(pd.DataFrame.from_dict({\n",
    "    '강남구': 80,\n",
    " '강동구': 14,\n",
    " '강서구': 20,\n",
    " '강북구': 5,\n",
    " '관악구': 11,\n",
    " '광진구': 15,\n",
    " '구로구': 10,\n",
    " '금천구': 10,\n",
    " '노원구': 13,\n",
    " '동대문구': 8,\n",
    " '도봉구': 2,\n",
    " '동작구': 11,\n",
    " '마포구': 32,\n",
    " '서대문구': 18,\n",
    " '성동구': 11,\n",
    " '성북구': 13,\n",
    " '서초구': 46,\n",
    " '송파구': 30,\n",
    " '영등포구': 34,\n",
    " '용산구': 19,\n",
    " '양천구': 15,\n",
    " '은평구': 8,\n",
    " '종로구': 38,\n",
    " '중구': 86,\n",
    " '중랑구': 6}, orient='index').rename(columns={0:'starbucks_num'}))"
   ]
  },
  {
   "cell_type": "markdown",
   "id": "primary-phoenix",
   "metadata": {},
   "source": [
    "# # day3-나이대별 인구대비 확진자수"
   ]
  },
  {
   "cell_type": "code",
   "execution_count": 36,
   "id": "bacterial-capability",
   "metadata": {},
   "outputs": [],
   "source": [
    "tg= pd.read_csv('../data/TimeAge.csv', delimiter=',' ,sep=r', ')"
   ]
  },
  {
   "cell_type": "code",
   "execution_count": 37,
   "id": "alpha-labor",
   "metadata": {},
   "outputs": [
    {
     "data": {
      "text/html": [
       "<div>\n",
       "<style scoped>\n",
       "    .dataframe tbody tr th:only-of-type {\n",
       "        vertical-align: middle;\n",
       "    }\n",
       "\n",
       "    .dataframe tbody tr th {\n",
       "        vertical-align: top;\n",
       "    }\n",
       "\n",
       "    .dataframe thead th {\n",
       "        text-align: right;\n",
       "    }\n",
       "</style>\n",
       "<table border=\"1\" class=\"dataframe\">\n",
       "  <thead>\n",
       "    <tr style=\"text-align: right;\">\n",
       "      <th></th>\n",
       "      <th>date</th>\n",
       "      <th>time</th>\n",
       "      <th>age</th>\n",
       "      <th>confirmed</th>\n",
       "      <th>deceased</th>\n",
       "    </tr>\n",
       "  </thead>\n",
       "  <tbody>\n",
       "    <tr>\n",
       "      <th>0</th>\n",
       "      <td>2020-03-02</td>\n",
       "      <td>0</td>\n",
       "      <td>0s</td>\n",
       "      <td>32</td>\n",
       "      <td>0</td>\n",
       "    </tr>\n",
       "    <tr>\n",
       "      <th>1</th>\n",
       "      <td>2020-03-02</td>\n",
       "      <td>0</td>\n",
       "      <td>10s</td>\n",
       "      <td>169</td>\n",
       "      <td>0</td>\n",
       "    </tr>\n",
       "    <tr>\n",
       "      <th>2</th>\n",
       "      <td>2020-03-02</td>\n",
       "      <td>0</td>\n",
       "      <td>20s</td>\n",
       "      <td>1235</td>\n",
       "      <td>0</td>\n",
       "    </tr>\n",
       "    <tr>\n",
       "      <th>3</th>\n",
       "      <td>2020-03-02</td>\n",
       "      <td>0</td>\n",
       "      <td>30s</td>\n",
       "      <td>506</td>\n",
       "      <td>1</td>\n",
       "    </tr>\n",
       "    <tr>\n",
       "      <th>4</th>\n",
       "      <td>2020-03-02</td>\n",
       "      <td>0</td>\n",
       "      <td>40s</td>\n",
       "      <td>633</td>\n",
       "      <td>1</td>\n",
       "    </tr>\n",
       "  </tbody>\n",
       "</table>\n",
       "</div>"
      ],
      "text/plain": [
       "         date  time  age  confirmed  deceased\n",
       "0  2020-03-02     0   0s         32         0\n",
       "1  2020-03-02     0  10s        169         0\n",
       "2  2020-03-02     0  20s       1235         0\n",
       "3  2020-03-02     0  30s        506         1\n",
       "4  2020-03-02     0  40s        633         1"
      ]
     },
     "execution_count": 37,
     "metadata": {},
     "output_type": "execute_result"
    }
   ],
   "source": [
    "tg.head()"
   ]
  },
  {
   "cell_type": "code",
   "execution_count": 39,
   "id": "prerequisite-tribune",
   "metadata": {},
   "outputs": [
    {
     "data": {
      "text/html": [
       "<div>\n",
       "<style scoped>\n",
       "    .dataframe tbody tr th:only-of-type {\n",
       "        vertical-align: middle;\n",
       "    }\n",
       "\n",
       "    .dataframe tbody tr th {\n",
       "        vertical-align: top;\n",
       "    }\n",
       "\n",
       "    .dataframe thead th {\n",
       "        text-align: right;\n",
       "    }\n",
       "</style>\n",
       "<table border=\"1\" class=\"dataframe\">\n",
       "  <thead>\n",
       "    <tr style=\"text-align: right;\">\n",
       "      <th></th>\n",
       "      <th>time</th>\n",
       "      <th>confirmed</th>\n",
       "      <th>deceased</th>\n",
       "    </tr>\n",
       "    <tr>\n",
       "      <th>age</th>\n",
       "      <th></th>\n",
       "      <th></th>\n",
       "      <th></th>\n",
       "    </tr>\n",
       "  </thead>\n",
       "  <tbody>\n",
       "    <tr>\n",
       "      <th>0s</th>\n",
       "      <td>0</td>\n",
       "      <td>16107</td>\n",
       "      <td>0</td>\n",
       "    </tr>\n",
       "    <tr>\n",
       "      <th>10s</th>\n",
       "      <td>0</td>\n",
       "      <td>68752</td>\n",
       "      <td>0</td>\n",
       "    </tr>\n",
       "    <tr>\n",
       "      <th>20s</th>\n",
       "      <td>0</td>\n",
       "      <td>345827</td>\n",
       "      <td>0</td>\n",
       "    </tr>\n",
       "    <tr>\n",
       "      <th>30s</th>\n",
       "      <td>0</td>\n",
       "      <td>137539</td>\n",
       "      <td>194</td>\n",
       "    </tr>\n",
       "    <tr>\n",
       "      <th>40s</th>\n",
       "      <td>0</td>\n",
       "      <td>168250</td>\n",
       "      <td>295</td>\n",
       "    </tr>\n",
       "    <tr>\n",
       "      <th>50s</th>\n",
       "      <td>0</td>\n",
       "      <td>230030</td>\n",
       "      <td>1537</td>\n",
       "    </tr>\n",
       "    <tr>\n",
       "      <th>60s</th>\n",
       "      <td>0</td>\n",
       "      <td>158505</td>\n",
       "      <td>3743</td>\n",
       "    </tr>\n",
       "    <tr>\n",
       "      <th>70s</th>\n",
       "      <td>0</td>\n",
       "      <td>82107</td>\n",
       "      <td>7599</td>\n",
       "    </tr>\n",
       "    <tr>\n",
       "      <th>80s</th>\n",
       "      <td>0</td>\n",
       "      <td>54086</td>\n",
       "      <td>12136</td>\n",
       "    </tr>\n",
       "  </tbody>\n",
       "</table>\n",
       "</div>"
      ],
      "text/plain": [
       "     time  confirmed  deceased\n",
       "age                           \n",
       "0s      0      16107         0\n",
       "10s     0      68752         0\n",
       "20s     0     345827         0\n",
       "30s     0     137539       194\n",
       "40s     0     168250       295\n",
       "50s     0     230030      1537\n",
       "60s     0     158505      3743\n",
       "70s     0      82107      7599\n",
       "80s     0      54086     12136"
      ]
     },
     "execution_count": 39,
     "metadata": {},
     "output_type": "execute_result"
    }
   ],
   "source": [
    "tg.groupby(['age']).sum()"
   ]
  },
  {
   "cell_type": "code",
   "execution_count": 40,
   "id": "accredited-stanford",
   "metadata": {},
   "outputs": [],
   "source": [
    "tg2=tg.groupby(['age']).sum()"
   ]
  },
  {
   "cell_type": "code",
   "execution_count": 41,
   "id": "distinguished-allowance",
   "metadata": {},
   "outputs": [],
   "source": [
    "age_pop=[3809849,4727626,6708734,6745531,8182067,8610979,7097818,3705737,1808689]\n",
    "#연령별 인구"
   ]
  },
  {
   "cell_type": "code",
   "execution_count": 46,
   "id": "incomplete-benefit",
   "metadata": {},
   "outputs": [
    {
     "data": {
      "text/plain": [
       "age\n",
       "0s      16107\n",
       "10s     68752\n",
       "20s    345827\n",
       "30s    137539\n",
       "40s    168250\n",
       "50s    230030\n",
       "60s    158505\n",
       "70s     82107\n",
       "80s     54086\n",
       "Name: confirmed, dtype: int64"
      ]
     },
     "execution_count": 46,
     "metadata": {},
     "output_type": "execute_result"
    }
   ],
   "source": [
    "tg2.confirmed"
   ]
  },
  {
   "cell_type": "code",
   "execution_count": 49,
   "id": "vertical-needle",
   "metadata": {},
   "outputs": [],
   "source": [
    "tg2_list=[]\n",
    "for i in (tg2.confirmed):\n",
    "    tg2_list.append(i)"
   ]
  },
  {
   "cell_type": "code",
   "execution_count": 50,
   "id": "active-travel",
   "metadata": {},
   "outputs": [
    {
     "data": {
      "text/plain": [
       "[16107, 68752, 345827, 137539, 168250, 230030, 158505, 82107, 54086]"
      ]
     },
     "execution_count": 50,
     "metadata": {},
     "output_type": "execute_result"
    }
   ],
   "source": [
    "tg2_list"
   ]
  },
  {
   "cell_type": "code",
   "execution_count": 57,
   "id": "standard-pharmacology",
   "metadata": {},
   "outputs": [],
   "source": [
    "age_p=[0]*9\n",
    "for i in range(len(tg2_list)):\n",
    "    age_p[i]=tg2_list[i]*(1/age_pop[i])*100"
   ]
  },
  {
   "cell_type": "code",
   "execution_count": 64,
   "id": "piano-banks",
   "metadata": {},
   "outputs": [
    {
     "data": {
      "text/plain": [
       "21.237725086537026"
      ]
     },
     "execution_count": 64,
     "metadata": {},
     "output_type": "execute_result"
    }
   ],
   "source": [
    "age_p\n",
    "sum_age=0\n",
    "for i in range(len(age_p)):\n",
    "    sum_age+=age_p[i]\n",
    "sum_age"
   ]
  },
  {
   "cell_type": "code",
   "execution_count": 72,
   "id": "excited-converter",
   "metadata": {},
   "outputs": [],
   "source": [
    "age_ratio=[0]*9\n",
    "for i in range(len(age_p)):\n",
    "    age_ratio[i]=age_p[i]/sum_age*(100)"
   ]
  },
  {
   "cell_type": "code",
   "execution_count": 73,
   "id": "rapid-naples",
   "metadata": {},
   "outputs": [
    {
     "data": {
      "text/plain": [
       "[1.9906683006115506,\n",
       " 6.84753450208913,\n",
       " 24.272266395374096,\n",
       " 9.60067404683208,\n",
       " 9.682422883528178,\n",
       " 12.578358095962727,\n",
       " 10.515020231369586,\n",
       " 10.432721060571875,\n",
       " 14.080334483660776]"
      ]
     },
     "execution_count": 73,
     "metadata": {},
     "output_type": "execute_result"
    }
   ],
   "source": [
    "age_ratio"
   ]
  },
  {
   "cell_type": "code",
   "execution_count": 79,
   "id": "advisory-event",
   "metadata": {
    "scrolled": true
   },
   "outputs": [
    {
     "data": {
      "image/png": "[encoded data removed]",
      "text/plain": [
       "<Figure size 1440x720 with 1 Axes>"
      ]
     },
     "metadata": {},
     "output_type": "display_data"
    }
   ],
   "source": [
    "ratio = age_ratio\n",
    "labels = ['0s', '10s', '20s', '30s','40s','50s','60s','70s','80s']\n",
    "plt.pie(ratio, labels=labels, autopct='%.1f%%')\n",
    "plt.title('The ratio of COVID-19 confirmed patients to the number of people in each age group.')\n",
    "plt.show()"
   ]
  },
  {
   "cell_type": "code",
   "execution_count": null,
   "id": "arctic-bibliography",
   "metadata": {},
   "outputs": [],
   "source": []
  }
 ],
 "metadata": {
  "kernelspec": {
   "display_name": "Python 3",
   "language": "python",
   "name": "python3"
  },
  "language_info": {
   "codemirror_mode": {
    "name": "ipython",
    "version": 3
   },
   "file_extension": ".py",
   "mimetype": "text/x-python",
   "name": "python",
   "nbconvert_exporter": "python",
   "pygments_lexer": "ipython3",
   "version": "3.7.9"
  }
 },
 "nbformat": 4,
 "nbformat_minor": 5
}
